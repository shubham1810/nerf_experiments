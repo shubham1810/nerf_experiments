{
    "cells": [
        {
            "cell_type": "code",
            "execution_count": 1,
            "source": [
                "import torch\n",
                "from torch.utils.data import Dataset\n",
                "import glob\n",
                "import numpy as np\n",
                "import os\n",
                "from PIL import Image\n",
                "from torchvision import transforms as T\n",
                "\n",
                "from datasets.ray_utils import *\n",
                "from datasets.colmap_utils import \\\n",
                "    read_cameras_binary, read_images_binary, read_points3d_binary"
            ],
            "outputs": [
                {
                    "output_type": "stream",
                    "name": "stderr",
                    "text": [
                        "/home2/sdokania/.local/lib/python3.8/site-packages/kornia/augmentation/augmentation.py:1830: DeprecationWarning: GaussianBlur is no longer maintained and will be removed from the future versions. Please use RandomGaussianBlur instead.\n",
                        "  warnings.warn(\n"
                    ]
                }
            ],
            "metadata": {}
        },
        {
            "cell_type": "code",
            "execution_count": 2,
            "source": [
                "import cv2\n",
                "import matplotlib.pyplot as plt"
            ],
            "outputs": [
                {
                    "output_type": "stream",
                    "name": "stderr",
                    "text": [
                        "/home2/sdokania/.local/lib/python3.8/site-packages/matplotlib_inline/config.py:66: DeprecationWarning: InlineBackend._figure_formats_changed is deprecated in traitlets 4.1: use @observe and @unobserve instead.\n",
                        "  def _figure_formats_changed(self, name, old, new):\n"
                    ]
                }
            ],
            "metadata": {}
        },
        {
            "cell_type": "code",
            "execution_count": null,
            "source": [],
            "outputs": [],
            "metadata": {}
        },
        {
            "cell_type": "code",
            "execution_count": 3,
            "source": [
                "\n",
                "def normalize(v):\n",
                "    \"\"\"Normalize a vector.\"\"\"\n",
                "    return v/np.linalg.norm(v)\n",
                "\n",
                "\n",
                "def average_poses(poses):\n",
                "    \"\"\"\n",
                "    Calculate the average pose, which is then used to center all poses\n",
                "    using @center_poses. Its computation is as follows:\n",
                "    1. Compute the center: the average of pose centers.\n",
                "    2. Compute the z axis: the normalized average z axis.\n",
                "    3. Compute axis y': the average y axis.\n",
                "    4. Compute x' = y' cross product z, then normalize it as the x axis.\n",
                "    5. Compute the y axis: z cross product x.\n",
                "    \n",
                "    Note that at step 3, we cannot directly use y' as y axis since it's\n",
                "    not necessarily orthogonal to z axis. We need to pass from x to y.\n",
                "\n",
                "    Inputs:\n",
                "        poses: (N_images, 3, 4)\n",
                "\n",
                "    Outputs:\n",
                "        pose_avg: (3, 4) the average pose\n",
                "    \"\"\"\n",
                "    # 1. Compute the center\n",
                "    center = poses[..., 3].mean(0) # (3)\n",
                "\n",
                "    # 2. Compute the z axis\n",
                "    z = normalize(poses[..., 2].mean(0)) # (3)\n",
                "\n",
                "    # 3. Compute axis y' (no need to normalize as it's not the final output)\n",
                "    y_ = poses[..., 1].mean(0) # (3)\n",
                "\n",
                "    # 4. Compute the x axis\n",
                "    x = normalize(np.cross(y_, z)) # (3)\n",
                "\n",
                "    # 5. Compute the y axis (as z and x are normalized, y is already of norm 1)\n",
                "    y = np.cross(z, x) # (3)\n",
                "\n",
                "    pose_avg = np.stack([x, y, z, center], 1) # (3, 4)\n",
                "\n",
                "    return pose_avg\n",
                "\n",
                "\n",
                "def center_poses(poses):\n",
                "    \"\"\"\n",
                "    Center the poses so that we can use NDC.\n",
                "    See https://github.com/bmild/nerf/issues/34\n",
                "\n",
                "    Inputs:\n",
                "        poses: (N_images, 3, 4)\n",
                "\n",
                "    Outputs:\n",
                "        poses_centered: (N_images, 3, 4) the centered poses\n",
                "        pose_avg: (3, 4) the average pose\n",
                "    \"\"\"\n",
                "\n",
                "    pose_avg = average_poses(poses) # (3, 4)\n",
                "    pose_avg_homo = np.eye(4)\n",
                "    pose_avg_homo[:3] = pose_avg # convert to homogeneous coordinate for faster computation\n",
                "                                 # by simply adding 0, 0, 0, 1 as the last row\n",
                "    last_row = np.tile(np.array([0, 0, 0, 1]), (len(poses), 1, 1)) # (N_images, 1, 4)\n",
                "    poses_homo = \\\n",
                "        np.concatenate([poses, last_row], 1) # (N_images, 4, 4) homogeneous coordinate\n",
                "\n",
                "    poses_centered = np.linalg.inv(pose_avg_homo) @ poses_homo # (N_images, 4, 4)\n",
                "    poses_centered = poses_centered[:, :3] # (N_images, 3, 4)\n",
                "\n",
                "    return poses_centered, pose_avg\n",
                "\n",
                "\n",
                "def create_spiral_poses(radii, focus_depth, n_poses=120):\n",
                "    \"\"\"\n",
                "    Computes poses that follow a spiral path for rendering purpose.\n",
                "    See https://github.com/Fyusion/LLFF/issues/19\n",
                "    In particular, the path looks like:\n",
                "    https://tinyurl.com/ybgtfns3\n",
                "\n",
                "    Inputs:\n",
                "        radii: (3) radii of the spiral for each axis\n",
                "        focus_depth: float, the depth that the spiral poses look at\n",
                "        n_poses: int, number of poses to create along the path\n",
                "\n",
                "    Outputs:\n",
                "        poses_spiral: (n_poses, 3, 4) the poses in the spiral path\n",
                "    \"\"\"\n",
                "\n",
                "    poses_spiral = []\n",
                "    for t in np.linspace(0, 4*np.pi, n_poses+1)[:-1]: # rotate 4pi (2 rounds)\n",
                "        # the parametric function of the spiral (see the interactive web)\n",
                "        center = np.array([np.cos(t), -np.sin(t), -np.sin(0.5*t)]) * radii\n",
                "\n",
                "        # the viewing z axis is the vector pointing from the @focus_depth plane\n",
                "        # to @center\n",
                "        z = normalize(center - np.array([0, 0, -focus_depth]))\n",
                "        \n",
                "        # compute other axes as in @average_poses\n",
                "        y_ = np.array([0, 1, 0]) # (3)\n",
                "        x = normalize(np.cross(y_, z)) # (3)\n",
                "        y = np.cross(z, x) # (3)\n",
                "\n",
                "        poses_spiral += [np.stack([x, y, z, center], 1)] # (3, 4)\n",
                "\n",
                "    return np.stack(poses_spiral, 0) # (n_poses, 3, 4)\n",
                "\n",
                "\n",
                "def create_spheric_poses(radius, n_poses=120):\n",
                "    \"\"\"\n",
                "    Create circular poses around z axis.\n",
                "    Inputs:\n",
                "        radius: the (negative) height and the radius of the circle.\n",
                "\n",
                "    Outputs:\n",
                "        spheric_poses: (n_poses, 3, 4) the poses in the circular path\n",
                "    \"\"\"\n",
                "    def spheric_pose(theta, phi, radius):\n",
                "        trans_t = lambda t : np.array([\n",
                "            [1,0,0,0],\n",
                "            [0,1,0,-0.9*t],\n",
                "            [0,0,1,t],\n",
                "            [0,0,0,1],\n",
                "        ])\n",
                "\n",
                "        rot_phi = lambda phi : np.array([\n",
                "            [1,0,0,0],\n",
                "            [0,np.cos(phi),-np.sin(phi),0],\n",
                "            [0,np.sin(phi), np.cos(phi),0],\n",
                "            [0,0,0,1],\n",
                "        ])\n",
                "\n",
                "        rot_theta = lambda th : np.array([\n",
                "            [np.cos(th),0,-np.sin(th),0],\n",
                "            [0,1,0,0],\n",
                "            [np.sin(th),0, np.cos(th),0],\n",
                "            [0,0,0,1],\n",
                "        ])\n",
                "\n",
                "        c2w = rot_theta(theta) @ rot_phi(phi) @ trans_t(radius)\n",
                "        c2w = np.array([[-1,0,0,0],[0,0,1,0],[0,1,0,0],[0,0,0,1]]) @ c2w\n",
                "        return c2w[:3]\n",
                "\n",
                "    spheric_poses = []\n",
                "    for th in np.linspace(0, 2*np.pi, n_poses+1)[:-1]:\n",
                "        spheric_poses += [spheric_pose(th, -np.pi/5, radius)] # 36 degree view downwards\n",
                "    return np.stack(spheric_poses, 0)\n"
            ],
            "outputs": [],
            "metadata": {}
        },
        {
            "cell_type": "code",
            "execution_count": 4,
            "source": [
                "class LLFF2DDataset(Dataset):\n",
                "    def __init__(self, root_dir, split='train', img_wh=(504, 378), spheric_poses=False, val_num=1, img_chunk=(32, 32), apply_skip=False, apply_break=True):\n",
                "        \"\"\"\n",
                "        spheric_poses: whether the images are taken in a spheric inward-facing manner\n",
                "                       default: False (forward-facing)\n",
                "        val_num: number of val images (used for multigpu training, validate same image for all gpus)\n",
                "        \"\"\"\n",
                "        self.root_dir = root_dir\n",
                "        self.split = split\n",
                "        self.img_wh = img_wh\n",
                "\n",
                "        # For making the chunks smaller\n",
                "        self.img_chunk = img_chunk\n",
                "        self.apply_skip = apply_skip\n",
                "        self.apply_break =apply_break\n",
                "\n",
                "        self.spheric_poses = spheric_poses\n",
                "        self.val_num = max(1, val_num) # at least 1\n",
                "        self.define_transforms()\n",
                "\n",
                "        # prepare number of skips\n",
                "        self.skips = (self.img_wh[1] // self.img_chunk[1], self.img_wh[0] // self.img_chunk[0])\n",
                "\n",
                "        # Logic for tiling the windows\n",
                "        self.windows = [self.img_wh[1]//self.img_chunk[1], self.img_wh[0]//self.img_chunk[0]]\n",
                "        self.min_window = 12 \n",
                "\n",
                "        if self.img_wh[1]%self.img_chunk[1] > self.min_window:\n",
                "            self.windows[0] = self.windows[0] + 1\n",
                "\n",
                "        if self.img_wh[0]%self.img_chunk[0] > self.min_window:\n",
                "            self.windows[1] = self.windows[1] + 1\n",
                "\n",
                "        self.read_meta()\n",
                "        self.white_back = False\n",
                "\n",
                "    def read_meta(self):\n",
                "        # Step 1: rescale focal length according to training resolution\n",
                "        camdata = read_cameras_binary(os.path.join(self.root_dir, 'sparse/0/cameras.bin'))\n",
                "        H = camdata[1].height\n",
                "        W = camdata[1].width\n",
                "        self.focal = camdata[1].params[0] * self.img_wh[0]/W\n",
                "\n",
                "        # Step 2: correct poses\n",
                "        # read extrinsics (of successfully reconstructed images)\n",
                "        imdata = read_images_binary(os.path.join(self.root_dir, 'sparse/0/images.bin'))\n",
                "        perm = np.argsort([imdata[k].name for k in imdata])\n",
                "        # read successfully reconstructed images and ignore others\n",
                "        self.image_paths = [os.path.join(self.root_dir, 'images', name)\n",
                "                            for name in sorted([imdata[k].name for k in imdata])]\n",
                "        w2c_mats = []\n",
                "        bottom = np.array([0, 0, 0, 1.]).reshape(1, 4)\n",
                "        for k in imdata:\n",
                "            im = imdata[k]\n",
                "            R = im.qvec2rotmat()\n",
                "            t = im.tvec.reshape(3, 1)\n",
                "            w2c_mats += [np.concatenate([np.concatenate([R, t], 1), bottom], 0)]\n",
                "        w2c_mats = np.stack(w2c_mats, 0)\n",
                "        poses = np.linalg.inv(w2c_mats)[:, :3] # (N_images, 3, 4) cam2world matrices\n",
                "        \n",
                "        # read bounds\n",
                "        self.bounds = np.zeros((len(poses), 2)) # (N_images, 2)\n",
                "        pts3d = read_points3d_binary(os.path.join(self.root_dir, 'sparse/0/points3D.bin'))\n",
                "        pts_world = np.zeros((1, 3, len(pts3d))) # (1, 3, N_points)\n",
                "        visibilities = np.zeros((len(poses), len(pts3d))) # (N_images, N_points)\n",
                "        for i, k in enumerate(pts3d):\n",
                "            pts_world[0, :, i] = pts3d[k].xyz\n",
                "            for j in pts3d[k].image_ids:\n",
                "                visibilities[j-1, i] = 1\n",
                "        # calculate each point's depth w.r.t. each camera\n",
                "        # it's the dot product of \"points - camera center\" and \"camera frontal axis\"\n",
                "        self.points = pts_world\n",
                "        depths = ((pts_world-poses[..., 3:4])*poses[..., 2:3]).sum(1) # (N_images, N_points)\n",
                "        for i in range(len(poses)):\n",
                "            visibility_i = visibilities[i]\n",
                "            zs = depths[i][visibility_i==1]\n",
                "            self.bounds[i] = [np.percentile(zs, 0.1), np.percentile(zs, 99.9)]\n",
                "        # permute the matrices to increasing order\n",
                "        poses = poses[perm]\n",
                "        self.bounds = self.bounds[perm]\n",
                "        \n",
                "        # COLMAP poses has rotation in form \"right down front\", change to \"right up back\"\n",
                "        # See https://github.com/bmild/nerf/issues/34\n",
                "        poses = np.concatenate([poses[..., 0:1], -poses[..., 1:3], poses[..., 3:4]], -1)\n",
                "        self.poses, _ = center_poses(poses)\n",
                "        distances_from_center = np.linalg.norm(self.poses[..., 3], axis=1)\n",
                "        val_idx = np.argmin(distances_from_center) # choose val image as the closest to\n",
                "                                                   # center image\n",
                "\n",
                "        # Step 3: correct scale so that the nearest depth is at a little more than 1.0\n",
                "        # See https://github.com/bmild/nerf/issues/34\n",
                "        near_original = self.bounds.min()\n",
                "        scale_factor = near_original*0.75 # 0.75 is the default parameter\n",
                "                                          # the nearest depth is at 1/0.75=1.33\n",
                "        self.bounds /= scale_factor\n",
                "        self.poses[..., 3] /= scale_factor\n",
                "\n",
                "        # ray directions for all pixels, same for all images (same H, W, focal)\n",
                "        self.directions = \\\n",
                "            get_ray_directions(self.img_wh[1], self.img_wh[0], self.focal) # (H, W, 3)\n",
                "            \n",
                "        if self.split == 'train': # create buffer of all rays and rgb data\n",
                "                                  # use first N_images-1 to train, the LAST is val\n",
                "            self.all_rays = []\n",
                "            self.all_rgbs = []\n",
                "            for i, image_path in enumerate(self.image_paths):\n",
                "                if i == val_idx: # exclude the val image\n",
                "                    continue\n",
                "                c2w = torch.FloatTensor(self.poses[i])\n",
                "\n",
                "                img = Image.open(image_path).convert('RGB')\n",
                "                # assert img.size[1]*self.img_wh[0] == img.size[0]*self.img_wh[1], \\\n",
                "                #     f'''{image_path} has different aspect ratio than img_wh, \n",
                "                #         please check your data!'''\n",
                "                img = img.resize(self.img_wh, Image.LANCZOS)\n",
                "                img = self.transform(img) # (3, h, w)\n",
                "                img = img.permute(1, 2, 0)\n",
                "                # img = img.view(3, -1).permute(1, 0) # (h*w, 3) RGB\n",
                "\n",
                "                if self.apply_skip:\n",
                "                    for sx in range(self.skips[0]):\n",
                "                        for sy in range(self.skips[1]):\n",
                "                            self.all_rgbs += [img[sx::self.skips[0], sy::self.skips[1]]]\n",
                "                elif self.apply_break:\n",
                "                    for sx in range(self.windows[0]):\n",
                "                        if sx == self.windows[0]-1:\n",
                "                            row_chunk = img[sx*self.img_chunk[1]:]\n",
                "                        else:\n",
                "                            row_chunk = img[sx*self.img_chunk[1]:(sx+1)*self.img_chunk[1]]\n",
                "                        for sy in range(self.windows[1]):\n",
                "                            if sy == self.windows[1]-1:\n",
                "                                col_chunk = row_chunk[:, sy*self.img_chunk[0]:]\n",
                "                            else:\n",
                "                                col_chunk = row_chunk[:, sy*self.img_chunk[0]:(sy+1)*self.img_chunk[0]]\n",
                "                            self.all_rgbs += [col_chunk]\n",
                "                else:\n",
                "                    self.all_rgbs += [img]\n",
                "                \n",
                "                rays_o, rays_d = get_rays(self.directions, c2w) # both (h*w, 3)\n",
                "                if not self.spheric_poses:\n",
                "                    near, far = 0, 1\n",
                "                    rays_o, rays_d = get_ndc_rays(self.img_wh[1], self.img_wh[0],\n",
                "                                                self.focal, 1.0, rays_o, rays_d)\n",
                "                                    # near plane is always at 1.0\n",
                "                                    # near and far in NDC are always 0 and 1\n",
                "                                    # See https://github.com/bmild/nerf/issues/34\n",
                "                else:\n",
                "                    near = self.bounds.min()\n",
                "                    far = min(8 * near, self.bounds.max()) # focus on central object only\n",
                "\n",
                "                current_rays = torch.cat([rays_o, rays_d, \n",
                "                                            near*torch.ones_like(rays_o[:, :1]),\n",
                "                                            far*torch.ones_like(rays_o[:, :1])],\n",
                "                                            1).reshape(self.img_wh[1], self.img_wh[0], -1) # (h*w, 8)\n",
                "                \n",
                "                if self.apply_skip:\n",
                "                    for sx in range(self.skips[0]):\n",
                "                        for sy in range(self.skips[1]):\n",
                "                            self.all_rays += [current_rays[sx::self.skips[0], sy::self.skips[1]]]\n",
                "                elif self.apply_break:\n",
                "                    for sx in range(self.windows[0]):\n",
                "                        if sx == self.windows[0]-1:\n",
                "                            row_chunk = current_rays[sx*self.img_chunk[1]:]\n",
                "                        else:\n",
                "                            row_chunk = current_rays[sx*self.img_chunk[1]:(sx+1)*self.img_chunk[1]]\n",
                "                        for sy in range(self.windows[1]):\n",
                "                            if sy == self.windows[1]-1:\n",
                "                                col_chunk = row_chunk[:, sy*self.img_chunk[0]:]\n",
                "                            else:\n",
                "                                col_chunk = row_chunk[:, sy*self.img_chunk[0]:(sy+1)*self.img_chunk[0]]\n",
                "                            self.all_rays += [col_chunk]\n",
                "                else:\n",
                "                    self.all_rays += [current_rays]\n",
                "\n",
                "            # self.all_rays = torch.cat(self.all_rays, 0) # ((N_images-1)*h*w, 8)\n",
                "            # self.all_rgbs = torch.cat(self.all_rgbs, 0) # ((N_images-1)*h*w, 3)\n",
                "        \n",
                "        elif self.split == 'val':\n",
                "            print('val image is', self.image_paths[val_idx])\n",
                "            self.val_idx = val_idx\n",
                "\n",
                "        else: # for testing, create a parametric rendering path\n",
                "            if self.split.endswith('train'): # test on training set\n",
                "                self.poses_test = self.poses\n",
                "            elif not self.spheric_poses:\n",
                "                focus_depth = 3.5 # hardcoded, this is numerically close to the formula\n",
                "                                  # given in the original repo. Mathematically if near=1\n",
                "                                  # and far=infinity, then this number will converge to 4\n",
                "                radii = np.percentile(np.abs(self.poses[..., 3]), 90, axis=0)\n",
                "                self.poses_test = create_spiral_poses(radii, focus_depth)\n",
                "            else:\n",
                "                radius = 1.1 * self.bounds.min()\n",
                "                self.poses_test = create_spheric_poses(radius)\n",
                "\n",
                "    def define_transforms(self):\n",
                "        self.transform = T.ToTensor()\n",
                "\n",
                "    def __len__(self):\n",
                "        if self.split == 'train':\n",
                "            return len(self.all_rays)\n",
                "        if self.split == 'val':\n",
                "            return self.val_num\n",
                "        if self.split == 'test_train':\n",
                "            return len(self.poses)\n",
                "        return len(self.poses_test)\n",
                "\n",
                "    def __getitem__(self, idx):\n",
                "        if self.split == 'train': # use data in the buffers\n",
                "            sample = {'rays': self.all_rays[idx],\n",
                "                      'rgbs': self.all_rgbs[idx]}\n",
                "\n",
                "        else:\n",
                "            if self.split == 'val':\n",
                "                c2w = torch.FloatTensor(self.poses[self.val_idx])\n",
                "            elif self.split == 'test_train':\n",
                "                c2w = torch.FloatTensor(self.poses[idx])\n",
                "            else:\n",
                "                c2w = torch.FloatTensor(self.poses_test[idx])\n",
                "\n",
                "            rays_o, rays_d = get_rays(self.directions, c2w)\n",
                "            if not self.spheric_poses:\n",
                "                near, far = 0, 1\n",
                "                rays_o, rays_d = get_ndc_rays(self.img_wh[1], self.img_wh[0],\n",
                "                                              self.focal, 1.0, rays_o, rays_d)\n",
                "            else:\n",
                "                near = self.bounds.min()\n",
                "                far = min(8 * near, self.bounds.max())\n",
                "\n",
                "            rays = torch.cat([rays_o, rays_d, \n",
                "                              near*torch.ones_like(rays_o[:, :1]),\n",
                "                              far*torch.ones_like(rays_o[:, :1])],\n",
                "                              1).reshape(self.img_wh[1], self.img_wh[0], -1) # (h*w, 8)\n",
                "\n",
                "            sample = {'rays': rays,\n",
                "                      'c2w': c2w}\n",
                "\n",
                "            if self.split in ['val', 'test_train']:\n",
                "                if self.split == 'val':\n",
                "                    idx = self.val_idx\n",
                "                img = Image.open(self.image_paths[idx]).convert('RGB')\n",
                "                img = img.resize(self.img_wh, Image.LANCZOS)\n",
                "                img = self.transform(img) # (3, h, w)\n",
                "                img = img.permute(1, 2, 0)\n",
                "                # img = img.view(3, -1).permute(1, 0) # (h*w, 3)\n",
                "                sample['rgbs'] = img\n",
                "\n",
                "        return sample"
            ],
            "outputs": [],
            "metadata": {}
        },
        {
            "cell_type": "code",
            "execution_count": 5,
            "source": [
                "train_dataset = LLFF2DDataset('/ssd_scratch/cvit/shubham/nerf_llff_data/fern/', 'train', apply_skip=True)#, apply_break=True)#, apply_skip=True, img_chunk=(32, 32))#, img_wh=(400, 400))\n",
                "# val_dataset = LLFF2DDataset('/ssd_scratch/cvit/shubham/nerf_llff_data/fern/', 'val')"
            ],
            "outputs": [],
            "metadata": {}
        },
        {
            "cell_type": "code",
            "execution_count": 6,
            "source": [
                "len(train_dataset.all_rays), train_dataset.all_rays[0].shape"
            ],
            "outputs": [
                {
                    "output_type": "execute_result",
                    "data": {
                        "text/plain": [
                            "(3135, torch.Size([35, 34, 8]))"
                        ]
                    },
                    "metadata": {},
                    "execution_count": 6
                }
            ],
            "metadata": {}
        },
        {
            "cell_type": "code",
            "execution_count": 7,
            "source": [
                "len(train_dataset.all_rgbs), train_dataset.all_rgbs[0].shape"
            ],
            "outputs": [
                {
                    "output_type": "execute_result",
                    "data": {
                        "text/plain": [
                            "(3135, torch.Size([35, 34, 3]))"
                        ]
                    },
                    "metadata": {},
                    "execution_count": 7
                }
            ],
            "metadata": {}
        },
        {
            "cell_type": "code",
            "execution_count": 8,
            "source": [
                "img = train_dataset.all_rgbs[0]"
            ],
            "outputs": [],
            "metadata": {}
        },
        {
            "cell_type": "code",
            "execution_count": 9,
            "source": [
                "h, w, c = img.shape\n",
                "print(h, w, c)"
            ],
            "outputs": [
                {
                    "output_type": "stream",
                    "name": "stdout",
                    "text": [
                        "35 34 3\n"
                    ]
                }
            ],
            "metadata": {}
        },
        {
            "cell_type": "code",
            "execution_count": 11,
            "source": [
                "plt.imshow(img)"
            ],
            "outputs": [
                {
                    "output_type": "execute_result",
                    "data": {
                        "text/plain": [
                            "<matplotlib.image.AxesImage at 0x7fa1f638cd60>"
                        ]
                    },
                    "metadata": {},
                    "execution_count": 11
                },
                {
                    "output_type": "display_data",
                    "data": {
                        "text/plain": [
                            "<Figure size 432x288 with 1 Axes>"
                        ],
                        "image/png": "",
                        "image/svg+xml": "<?xml version=\"1.0\" encoding=\"utf-8\" standalone=\"no\"?>\n<!DOCTYPE svg PUBLIC \"-//W3C//DTD SVG 1.1//EN\"\n  \"http://www.w3.org/Graphics/SVG/1.1/DTD/svg11.dtd\">\n<svg height=\"249.211058pt\" version=\"1.1\" viewBox=\"0 0 245.352429 249.211058\" width=\"245.352429pt\" xmlns=\"http://www.w3.org/2000/svg\" xmlns:xlink=\"http://www.w3.org/1999/xlink\">\n <metadata>\n  <rdf:RDF xmlns:cc=\"http://creativecommons.org/ns#\" xmlns:dc=\"http://purl.org/dc/elements/1.1/\" xmlns:rdf=\"http://www.w3.org/1999/02/22-rdf-syntax-ns#\">\n   <cc:Work>\n    <dc:type rdf:resource=\"http://purl.org/dc/dcmitype/StillImage\"/>\n    <dc:date>2021-07-25T08:37:14.009553</dc:date>\n    <dc:format>image/svg+xml</dc:format>\n    <dc:creator>\n     <cc:Agent>\n      <dc:title>Matplotlib v3.4.1, https://matplotlib.org/</dc:title>\n     </cc:Agent>\n    </dc:creator>\n   </cc:Work>\n  </rdf:RDF>\n </metadata>\n <defs>\n  <style type=\"text/css\">*{stroke-linecap:butt;stroke-linejoin:round;}</style>\n </defs>\n <g id=\"figure_1\">\n  <g id=\"patch_1\">\n   <path d=\"M 0 249.211058 \nL 245.352429 249.211058 \nL 245.352429 0 \nL 0 0 \nz\n\" style=\"fill:none;\"/>\n  </g>\n  <g id=\"axes_1\">\n   <g id=\"patch_2\">\n    <path d=\"M 26.925 225.332933 \nL 238.152429 225.332933 \nL 238.152429 7.892933 \nL 26.925 7.892933 \nz\n\" style=\"fill:#ffffff;\"/>\n   </g>\n   <g clip-path=\"url(#pbc9b3c1a02)\">\n    <image height=\"218\" id=\"imagee42f675295\" transform=\"scale(1 -1)translate(0 -218)\" width=\"212\" x=\"26.925\" xlink:href=\"data:image/png;base64,\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\" y=\"-7.332933\"/>\n   </g>\n   <g id=\"matplotlib.axis_1\">\n    <g id=\"xtick_1\">\n     <g id=\"line2d_1\">\n      <defs>\n       <path d=\"M 0 0 \nL 0 3.5 \n\" id=\"mfe58306e01\" style=\"stroke:#000000;stroke-width:0.8;\"/>\n      </defs>\n      <g>\n       <use style=\"stroke:#000000;stroke-width:0.8;\" x=\"30.031286\" xlink:href=\"#mfe58306e01\" y=\"225.332933\"/>\n      </g>\n     </g>\n     <g id=\"text_1\">\n      <!-- 0 -->\n      <g transform=\"translate(26.850036 239.931371)scale(0.1 -0.1)\">\n       <defs>\n        <path d=\"M 2034 4250 \nQ 1547 4250 1301 3770 \nQ 1056 3291 1056 2328 \nQ 1056 1369 1301 889 \nQ 1547 409 2034 409 \nQ 2525 409 2770 889 \nQ 3016 1369 3016 2328 \nQ 3016 3291 2770 3770 \nQ 2525 4250 2034 4250 \nz\nM 2034 4750 \nQ 2819 4750 3233 4129 \nQ 3647 3509 3647 2328 \nQ 3647 1150 3233 529 \nQ 2819 -91 2034 -91 \nQ 1250 -91 836 529 \nQ 422 1150 422 2328 \nQ 422 3509 836 4129 \nQ 1250 4750 2034 4750 \nz\n\" id=\"DejaVuSans-30\" transform=\"scale(0.015625)\"/>\n       </defs>\n       <use xlink:href=\"#DejaVuSans-30\"/>\n      </g>\n     </g>\n    </g>\n    <g id=\"xtick_2\">\n     <g id=\"line2d_2\">\n      <g>\n       <use style=\"stroke:#000000;stroke-width:0.8;\" x=\"61.094143\" xlink:href=\"#mfe58306e01\" y=\"225.332933\"/>\n      </g>\n     </g>\n     <g id=\"text_2\">\n      <!-- 5 -->\n      <g transform=\"translate(57.912893 239.931371)scale(0.1 -0.1)\">\n       <defs>\n        <path d=\"M 691 4666 \nL 3169 4666 \nL 3169 4134 \nL 1269 4134 \nL 1269 2991 \nQ 1406 3038 1543 3061 \nQ 1681 3084 1819 3084 \nQ 2600 3084 3056 2656 \nQ 3513 2228 3513 1497 \nQ 3513 744 3044 326 \nQ 2575 -91 1722 -91 \nQ 1428 -91 1123 -41 \nQ 819 9 494 109 \nL 494 744 \nQ 775 591 1075 516 \nQ 1375 441 1709 441 \nQ 2250 441 2565 725 \nQ 2881 1009 2881 1497 \nQ 2881 1984 2565 2268 \nQ 2250 2553 1709 2553 \nQ 1456 2553 1204 2497 \nQ 953 2441 691 2322 \nL 691 4666 \nz\n\" id=\"DejaVuSans-35\" transform=\"scale(0.015625)\"/>\n       </defs>\n       <use xlink:href=\"#DejaVuSans-35\"/>\n      </g>\n     </g>\n    </g>\n    <g id=\"xtick_3\">\n     <g id=\"line2d_3\">\n      <g>\n       <use style=\"stroke:#000000;stroke-width:0.8;\" x=\"92.157\" xlink:href=\"#mfe58306e01\" y=\"225.332933\"/>\n      </g>\n     </g>\n     <g id=\"text_3\">\n      <!-- 10 -->\n      <g transform=\"translate(85.7945 239.931371)scale(0.1 -0.1)\">\n       <defs>\n        <path d=\"M 794 531 \nL 1825 531 \nL 1825 4091 \nL 703 3866 \nL 703 4441 \nL 1819 4666 \nL 2450 4666 \nL 2450 531 \nL 3481 531 \nL 3481 0 \nL 794 0 \nL 794 531 \nz\n\" id=\"DejaVuSans-31\" transform=\"scale(0.015625)\"/>\n       </defs>\n       <use xlink:href=\"#DejaVuSans-31\"/>\n       <use x=\"63.623047\" xlink:href=\"#DejaVuSans-30\"/>\n      </g>\n     </g>\n    </g>\n    <g id=\"xtick_4\">\n     <g id=\"line2d_4\">\n      <g>\n       <use style=\"stroke:#000000;stroke-width:0.8;\" x=\"123.219857\" xlink:href=\"#mfe58306e01\" y=\"225.332933\"/>\n      </g>\n     </g>\n     <g id=\"text_4\">\n      <!-- 15 -->\n      <g transform=\"translate(116.857357 239.931371)scale(0.1 -0.1)\">\n       <use xlink:href=\"#DejaVuSans-31\"/>\n       <use x=\"63.623047\" xlink:href=\"#DejaVuSans-35\"/>\n      </g>\n     </g>\n    </g>\n    <g id=\"xtick_5\">\n     <g id=\"line2d_5\">\n      <g>\n       <use style=\"stroke:#000000;stroke-width:0.8;\" x=\"154.282714\" xlink:href=\"#mfe58306e01\" y=\"225.332933\"/>\n      </g>\n     </g>\n     <g id=\"text_5\">\n      <!-- 20 -->\n      <g transform=\"translate(147.920214 239.931371)scale(0.1 -0.1)\">\n       <defs>\n        <path d=\"M 1228 531 \nL 3431 531 \nL 3431 0 \nL 469 0 \nL 469 531 \nQ 828 903 1448 1529 \nQ 2069 2156 2228 2338 \nQ 2531 2678 2651 2914 \nQ 2772 3150 2772 3378 \nQ 2772 3750 2511 3984 \nQ 2250 4219 1831 4219 \nQ 1534 4219 1204 4116 \nQ 875 4013 500 3803 \nL 500 4441 \nQ 881 4594 1212 4672 \nQ 1544 4750 1819 4750 \nQ 2544 4750 2975 4387 \nQ 3406 4025 3406 3419 \nQ 3406 3131 3298 2873 \nQ 3191 2616 2906 2266 \nQ 2828 2175 2409 1742 \nQ 1991 1309 1228 531 \nz\n\" id=\"DejaVuSans-32\" transform=\"scale(0.015625)\"/>\n       </defs>\n       <use xlink:href=\"#DejaVuSans-32\"/>\n       <use x=\"63.623047\" xlink:href=\"#DejaVuSans-30\"/>\n      </g>\n     </g>\n    </g>\n    <g id=\"xtick_6\">\n     <g id=\"line2d_6\">\n      <g>\n       <use style=\"stroke:#000000;stroke-width:0.8;\" x=\"185.345571\" xlink:href=\"#mfe58306e01\" y=\"225.332933\"/>\n      </g>\n     </g>\n     <g id=\"text_6\">\n      <!-- 25 -->\n      <g transform=\"translate(178.983071 239.931371)scale(0.1 -0.1)\">\n       <use xlink:href=\"#DejaVuSans-32\"/>\n       <use x=\"63.623047\" xlink:href=\"#DejaVuSans-35\"/>\n      </g>\n     </g>\n    </g>\n    <g id=\"xtick_7\">\n     <g id=\"line2d_7\">\n      <g>\n       <use style=\"stroke:#000000;stroke-width:0.8;\" x=\"216.408429\" xlink:href=\"#mfe58306e01\" y=\"225.332933\"/>\n      </g>\n     </g>\n     <g id=\"text_7\">\n      <!-- 30 -->\n      <g transform=\"translate(210.045929 239.931371)scale(0.1 -0.1)\">\n       <defs>\n        <path d=\"M 2597 2516 \nQ 3050 2419 3304 2112 \nQ 3559 1806 3559 1356 \nQ 3559 666 3084 287 \nQ 2609 -91 1734 -91 \nQ 1441 -91 1130 -33 \nQ 819 25 488 141 \nL 488 750 \nQ 750 597 1062 519 \nQ 1375 441 1716 441 \nQ 2309 441 2620 675 \nQ 2931 909 2931 1356 \nQ 2931 1769 2642 2001 \nQ 2353 2234 1838 2234 \nL 1294 2234 \nL 1294 2753 \nL 1863 2753 \nQ 2328 2753 2575 2939 \nQ 2822 3125 2822 3475 \nQ 2822 3834 2567 4026 \nQ 2313 4219 1838 4219 \nQ 1578 4219 1281 4162 \nQ 984 4106 628 3988 \nL 628 4550 \nQ 988 4650 1302 4700 \nQ 1616 4750 1894 4750 \nQ 2613 4750 3031 4423 \nQ 3450 4097 3450 3541 \nQ 3450 3153 3228 2886 \nQ 3006 2619 2597 2516 \nz\n\" id=\"DejaVuSans-33\" transform=\"scale(0.015625)\"/>\n       </defs>\n       <use xlink:href=\"#DejaVuSans-33\"/>\n       <use x=\"63.623047\" xlink:href=\"#DejaVuSans-30\"/>\n      </g>\n     </g>\n    </g>\n   </g>\n   <g id=\"matplotlib.axis_2\">\n    <g id=\"ytick_1\">\n     <g id=\"line2d_8\">\n      <defs>\n       <path d=\"M 0 0 \nL -3.5 0 \n\" id=\"m83d2cc49a4\" style=\"stroke:#000000;stroke-width:0.8;\"/>\n      </defs>\n      <g>\n       <use style=\"stroke:#000000;stroke-width:0.8;\" x=\"26.925\" xlink:href=\"#m83d2cc49a4\" y=\"10.999219\"/>\n      </g>\n     </g>\n     <g id=\"text_8\">\n      <!-- 0 -->\n      <g transform=\"translate(13.5625 14.798437)scale(0.1 -0.1)\">\n       <use xlink:href=\"#DejaVuSans-30\"/>\n      </g>\n     </g>\n    </g>\n    <g id=\"ytick_2\">\n     <g id=\"line2d_9\">\n      <g>\n       <use style=\"stroke:#000000;stroke-width:0.8;\" x=\"26.925\" xlink:href=\"#m83d2cc49a4\" y=\"42.062076\"/>\n      </g>\n     </g>\n     <g id=\"text_9\">\n      <!-- 5 -->\n      <g transform=\"translate(13.5625 45.861295)scale(0.1 -0.1)\">\n       <use xlink:href=\"#DejaVuSans-35\"/>\n      </g>\n     </g>\n    </g>\n    <g id=\"ytick_3\">\n     <g id=\"line2d_10\">\n      <g>\n       <use style=\"stroke:#000000;stroke-width:0.8;\" x=\"26.925\" xlink:href=\"#m83d2cc49a4\" y=\"73.124933\"/>\n      </g>\n     </g>\n     <g id=\"text_10\">\n      <!-- 10 -->\n      <g transform=\"translate(7.2 76.924152)scale(0.1 -0.1)\">\n       <use xlink:href=\"#DejaVuSans-31\"/>\n       <use x=\"63.623047\" xlink:href=\"#DejaVuSans-30\"/>\n      </g>\n     </g>\n    </g>\n    <g id=\"ytick_4\">\n     <g id=\"line2d_11\">\n      <g>\n       <use style=\"stroke:#000000;stroke-width:0.8;\" x=\"26.925\" xlink:href=\"#m83d2cc49a4\" y=\"104.18779\"/>\n      </g>\n     </g>\n     <g id=\"text_11\">\n      <!-- 15 -->\n      <g transform=\"translate(7.2 107.987009)scale(0.1 -0.1)\">\n       <use xlink:href=\"#DejaVuSans-31\"/>\n       <use x=\"63.623047\" xlink:href=\"#DejaVuSans-35\"/>\n      </g>\n     </g>\n    </g>\n    <g id=\"ytick_5\">\n     <g id=\"line2d_12\">\n      <g>\n       <use style=\"stroke:#000000;stroke-width:0.8;\" x=\"26.925\" xlink:href=\"#m83d2cc49a4\" y=\"135.250647\"/>\n      </g>\n     </g>\n     <g id=\"text_12\">\n      <!-- 20 -->\n      <g transform=\"translate(7.2 139.049866)scale(0.1 -0.1)\">\n       <use xlink:href=\"#DejaVuSans-32\"/>\n       <use x=\"63.623047\" xlink:href=\"#DejaVuSans-30\"/>\n      </g>\n     </g>\n    </g>\n    <g id=\"ytick_6\">\n     <g id=\"line2d_13\">\n      <g>\n       <use style=\"stroke:#000000;stroke-width:0.8;\" x=\"26.925\" xlink:href=\"#m83d2cc49a4\" y=\"166.313504\"/>\n      </g>\n     </g>\n     <g id=\"text_13\">\n      <!-- 25 -->\n      <g transform=\"translate(7.2 170.112723)scale(0.1 -0.1)\">\n       <use xlink:href=\"#DejaVuSans-32\"/>\n       <use x=\"63.623047\" xlink:href=\"#DejaVuSans-35\"/>\n      </g>\n     </g>\n    </g>\n    <g id=\"ytick_7\">\n     <g id=\"line2d_14\">\n      <g>\n       <use style=\"stroke:#000000;stroke-width:0.8;\" x=\"26.925\" xlink:href=\"#m83d2cc49a4\" y=\"197.376362\"/>\n      </g>\n     </g>\n     <g id=\"text_14\">\n      <!-- 30 -->\n      <g transform=\"translate(7.2 201.17558)scale(0.1 -0.1)\">\n       <use xlink:href=\"#DejaVuSans-33\"/>\n       <use x=\"63.623047\" xlink:href=\"#DejaVuSans-30\"/>\n      </g>\n     </g>\n    </g>\n   </g>\n   <g id=\"patch_3\">\n    <path d=\"M 26.925 225.332933 \nL 26.925 7.892933 \n\" style=\"fill:none;stroke:#000000;stroke-linecap:square;stroke-linejoin:miter;stroke-width:0.8;\"/>\n   </g>\n   <g id=\"patch_4\">\n    <path d=\"M 238.152429 225.332933 \nL 238.152429 7.892933 \n\" style=\"fill:none;stroke:#000000;stroke-linecap:square;stroke-linejoin:miter;stroke-width:0.8;\"/>\n   </g>\n   <g id=\"patch_5\">\n    <path d=\"M 26.925 225.332933 \nL 238.152429 225.332933 \n\" style=\"fill:none;stroke:#000000;stroke-linecap:square;stroke-linejoin:miter;stroke-width:0.8;\"/>\n   </g>\n   <g id=\"patch_6\">\n    <path d=\"M 26.925 7.892933 \nL 238.152429 7.892933 \n\" style=\"fill:none;stroke:#000000;stroke-linecap:square;stroke-linejoin:miter;stroke-width:0.8;\"/>\n   </g>\n  </g>\n </g>\n <defs>\n  <clipPath id=\"pbc9b3c1a02\">\n   <rect height=\"217.44\" width=\"211.227429\" x=\"26.925\" y=\"7.892933\"/>\n  </clipPath>\n </defs>\n</svg>\n"
                    },
                    "metadata": {
                        "needs_background": "light"
                    }
                }
            ],
            "metadata": {}
        },
        {
            "cell_type": "code",
            "execution_count": 12,
            "source": [
                "im = np.arange(100).reshape((10, 10))\n",
                "plt.imshow(im)"
            ],
            "outputs": [
                {
                    "output_type": "execute_result",
                    "data": {
                        "text/plain": [
                            "<matplotlib.image.AxesImage at 0x7fa1f644d1f0>"
                        ]
                    },
                    "metadata": {},
                    "execution_count": 12
                },
                {
                    "output_type": "display_data",
                    "data": {
                        "text/plain": [
                            "<Figure size 432x288 with 1 Axes>"
                        ],
                        "image/png": "",
                        "image/svg+xml": "<?xml version=\"1.0\" encoding=\"utf-8\" standalone=\"no\"?>\n<!DOCTYPE svg PUBLIC \"-//W3C//DTD SVG 1.1//EN\"\n  \"http://www.w3.org/Graphics/SVG/1.1/DTD/svg11.dtd\">\n<svg height=\"248.518125pt\" version=\"1.1\" viewBox=\"0 0 245.2025 248.518125\" width=\"245.2025pt\" xmlns=\"http://www.w3.org/2000/svg\" xmlns:xlink=\"http://www.w3.org/1999/xlink\">\n <metadata>\n  <rdf:RDF xmlns:cc=\"http://creativecommons.org/ns#\" xmlns:dc=\"http://purl.org/dc/elements/1.1/\" xmlns:rdf=\"http://www.w3.org/1999/02/22-rdf-syntax-ns#\">\n   <cc:Work>\n    <dc:type rdf:resource=\"http://purl.org/dc/dcmitype/StillImage\"/>\n    <dc:date>2021-07-25T08:37:55.491060</dc:date>\n    <dc:format>image/svg+xml</dc:format>\n    <dc:creator>\n     <cc:Agent>\n      <dc:title>Matplotlib v3.4.1, https://matplotlib.org/</dc:title>\n     </cc:Agent>\n    </dc:creator>\n   </cc:Work>\n  </rdf:RDF>\n </metadata>\n <defs>\n  <style type=\"text/css\">*{stroke-linecap:butt;stroke-linejoin:round;}</style>\n </defs>\n <g id=\"figure_1\">\n  <g id=\"patch_1\">\n   <path d=\"M 0 248.518125 \nL 245.2025 248.518125 \nL 245.2025 0 \nL 0 0 \nz\n\" style=\"fill:none;\"/>\n  </g>\n  <g id=\"axes_1\">\n   <g id=\"patch_2\">\n    <path d=\"M 20.5625 224.64 \nL 238.0025 224.64 \nL 238.0025 7.2 \nL 20.5625 7.2 \nz\n\" style=\"fill:#ffffff;\"/>\n   </g>\n   <g clip-path=\"url(#pdea5c5d4e1)\">\n    <image height=\"218\" id=\"image42f458ff43\" transform=\"scale(1 -1)translate(0 -218)\" width=\"218\" x=\"20.5625\" xlink:href=\"data:image/png;base64,\niVBORw0KGgoAAAANSUhEUgAAANoAAADaCAYAAADAHVzbAAAD4ElEQVR4nO3cPa4cRRSA0erpbr/hJ2QBiJj9R0Rk7AGBA4RMAAmZeX7twBH53E8a6ZwFXJWq55vK7vbz7z9ca8B9e50Yu87t7eEz79unh8/8Mnfkatc5MnWt+3YbmXsOzH3ZZm7h3PaRuTM3C/yP0CAgNAgIDQJCg4DQICA0CAgNAkKDgNAgIDQICA0CQoOA0CAgNAgIDQJCg4DQICA0CAgNAkKDwPHTvz+ODL7f/huZ+zIw9xzbgjVzB+fQhrGpb/Zu4H6n7nZqrhcNAkKDgNAgIDQICA0CQoOA0CAgNAgIDQJCg4DQICA0CAgNAkKDgNAgIDQICA0CQoOA0CAgNAgIDQLHL/98PzP49jYy993t8Rugnumsa611bjPnfdlnzjtxD1Oby16GvpkXDQJCg4DQICA0CAgNAkKDgNAgIDQICA0CQoOA0CAgNAgIDQJCg4DQICA0CAgNAkKDgNAgIDQIHL/+9d3I4NvtGpm7749fTDN11qmlP8fAHay11j513oG5U3d77jNLf7xoEBAaBIQGAaFBQGgQEBoEhAYBoUFAaBAQGgSEBgGhQUBoEBAaBIQGAaFBQGgQEBoEhAYBoUFAaBA4Pn34emTw69BmqbU/fuS1D511m7qDoblDf7vbwNaubej3tQ3drRcNAkKDgNAgIDQICA0CQoOA0CAgNAgIDQJCg4DQICA0CAgNAkKDgNAgIDQICA0CQoOA0CAgNAgIDQLHVx9mWruGEp6Yew1s1lpr8A6GNjX5Zmutoe1aXjQICA0CQoOA0CAgNAgIDQJCg4DQICA0CAgNAkKDgNAgIDQICA0CQoOA0CAgNAgIDQJCg4DQICA0CBzf/Dmz9eftiTZLPd8WrG1o7sjYJ/tmM3frRYOA0CAgNAgIDQJCg4DQICA0CAgNAkKDgNAgIDQICA0CQoOA0CAgNAgIDQJCg4DQICA0CAgNAkKDwPHtHx9HBl/H0KamgS1FUxuV3p7oDtZ6rs1Sz7RlbS0vGiSEBgGhQUBoEBAaBIQGAaFBQGgQEBoEhAYBoUFAaBAQGgSEBgGhQUBoEBAaBIQGAaFBQGgQOO7v/x4ZfB1D21MG5l63of+bY2butU8t55k67+Pnjt3B0DfzokFAaBAQGgSEBgGhQUBoEBAaBIQGAaFBQGgQEBoEhAYBoUFAaBAQGgSEBgGhQUBoEBAaBIQGAaFB4Hj97f3M5NvMFqztPB4/cx866/H4s641d941dd6JjWhjdzAz14sGAaFBQGgQEBoEhAYBoUFAaBAQGgSEBgGhQUBoEBAaBIQGAaFBQGgQEBoEhAYBoUFAaBAQGgSEBoHPX2FhtCJCQ5AAAAAASUVORK5CYII=\" y=\"-6.64\"/>\n   </g>\n   <g id=\"matplotlib.axis_1\">\n    <g id=\"xtick_1\">\n     <g id=\"line2d_1\">\n      <defs>\n       <path d=\"M 0 0 \nL 0 3.5 \n\" id=\"m0cf4e7f136\" style=\"stroke:#000000;stroke-width:0.8;\"/>\n      </defs>\n      <g>\n       <use style=\"stroke:#000000;stroke-width:0.8;\" x=\"31.4345\" xlink:href=\"#m0cf4e7f136\" y=\"224.64\"/>\n      </g>\n     </g>\n     <g id=\"text_1\">\n      <!-- 0 -->\n      <g transform=\"translate(28.25325 239.238437)scale(0.1 -0.1)\">\n       <defs>\n        <path d=\"M 2034 4250 \nQ 1547 4250 1301 3770 \nQ 1056 3291 1056 2328 \nQ 1056 1369 1301 889 \nQ 1547 409 2034 409 \nQ 2525 409 2770 889 \nQ 3016 1369 3016 2328 \nQ 3016 3291 2770 3770 \nQ 2525 4250 2034 4250 \nz\nM 2034 4750 \nQ 2819 4750 3233 4129 \nQ 3647 3509 3647 2328 \nQ 3647 1150 3233 529 \nQ 2819 -91 2034 -91 \nQ 1250 -91 836 529 \nQ 422 1150 422 2328 \nQ 422 3509 836 4129 \nQ 1250 4750 2034 4750 \nz\n\" id=\"DejaVuSans-30\" transform=\"scale(0.015625)\"/>\n       </defs>\n       <use xlink:href=\"#DejaVuSans-30\"/>\n      </g>\n     </g>\n    </g>\n    <g id=\"xtick_2\">\n     <g id=\"line2d_2\">\n      <g>\n       <use style=\"stroke:#000000;stroke-width:0.8;\" x=\"74.9225\" xlink:href=\"#m0cf4e7f136\" y=\"224.64\"/>\n      </g>\n     </g>\n     <g id=\"text_2\">\n      <!-- 2 -->\n      <g transform=\"translate(71.74125 239.238437)scale(0.1 -0.1)\">\n       <defs>\n        <path d=\"M 1228 531 \nL 3431 531 \nL 3431 0 \nL 469 0 \nL 469 531 \nQ 828 903 1448 1529 \nQ 2069 2156 2228 2338 \nQ 2531 2678 2651 2914 \nQ 2772 3150 2772 3378 \nQ 2772 3750 2511 3984 \nQ 2250 4219 1831 4219 \nQ 1534 4219 1204 4116 \nQ 875 4013 500 3803 \nL 500 4441 \nQ 881 4594 1212 4672 \nQ 1544 4750 1819 4750 \nQ 2544 4750 2975 4387 \nQ 3406 4025 3406 3419 \nQ 3406 3131 3298 2873 \nQ 3191 2616 2906 2266 \nQ 2828 2175 2409 1742 \nQ 1991 1309 1228 531 \nz\n\" id=\"DejaVuSans-32\" transform=\"scale(0.015625)\"/>\n       </defs>\n       <use xlink:href=\"#DejaVuSans-32\"/>\n      </g>\n     </g>\n    </g>\n    <g id=\"xtick_3\">\n     <g id=\"line2d_3\">\n      <g>\n       <use style=\"stroke:#000000;stroke-width:0.8;\" x=\"118.4105\" xlink:href=\"#m0cf4e7f136\" y=\"224.64\"/>\n      </g>\n     </g>\n     <g id=\"text_3\">\n      <!-- 4 -->\n      <g transform=\"translate(115.22925 239.238437)scale(0.1 -0.1)\">\n       <defs>\n        <path d=\"M 2419 4116 \nL 825 1625 \nL 2419 1625 \nL 2419 4116 \nz\nM 2253 4666 \nL 3047 4666 \nL 3047 1625 \nL 3713 1625 \nL 3713 1100 \nL 3047 1100 \nL 3047 0 \nL 2419 0 \nL 2419 1100 \nL 313 1100 \nL 313 1709 \nL 2253 4666 \nz\n\" id=\"DejaVuSans-34\" transform=\"scale(0.015625)\"/>\n       </defs>\n       <use xlink:href=\"#DejaVuSans-34\"/>\n      </g>\n     </g>\n    </g>\n    <g id=\"xtick_4\">\n     <g id=\"line2d_4\">\n      <g>\n       <use style=\"stroke:#000000;stroke-width:0.8;\" x=\"161.8985\" xlink:href=\"#m0cf4e7f136\" y=\"224.64\"/>\n      </g>\n     </g>\n     <g id=\"text_4\">\n      <!-- 6 -->\n      <g transform=\"translate(158.71725 239.238437)scale(0.1 -0.1)\">\n       <defs>\n        <path d=\"M 2113 2584 \nQ 1688 2584 1439 2293 \nQ 1191 2003 1191 1497 \nQ 1191 994 1439 701 \nQ 1688 409 2113 409 \nQ 2538 409 2786 701 \nQ 3034 994 3034 1497 \nQ 3034 2003 2786 2293 \nQ 2538 2584 2113 2584 \nz\nM 3366 4563 \nL 3366 3988 \nQ 3128 4100 2886 4159 \nQ 2644 4219 2406 4219 \nQ 1781 4219 1451 3797 \nQ 1122 3375 1075 2522 \nQ 1259 2794 1537 2939 \nQ 1816 3084 2150 3084 \nQ 2853 3084 3261 2657 \nQ 3669 2231 3669 1497 \nQ 3669 778 3244 343 \nQ 2819 -91 2113 -91 \nQ 1303 -91 875 529 \nQ 447 1150 447 2328 \nQ 447 3434 972 4092 \nQ 1497 4750 2381 4750 \nQ 2619 4750 2861 4703 \nQ 3103 4656 3366 4563 \nz\n\" id=\"DejaVuSans-36\" transform=\"scale(0.015625)\"/>\n       </defs>\n       <use xlink:href=\"#DejaVuSans-36\"/>\n      </g>\n     </g>\n    </g>\n    <g id=\"xtick_5\">\n     <g id=\"line2d_5\">\n      <g>\n       <use style=\"stroke:#000000;stroke-width:0.8;\" x=\"205.3865\" xlink:href=\"#m0cf4e7f136\" y=\"224.64\"/>\n      </g>\n     </g>\n     <g id=\"text_5\">\n      <!-- 8 -->\n      <g transform=\"translate(202.20525 239.238437)scale(0.1 -0.1)\">\n       <defs>\n        <path d=\"M 2034 2216 \nQ 1584 2216 1326 1975 \nQ 1069 1734 1069 1313 \nQ 1069 891 1326 650 \nQ 1584 409 2034 409 \nQ 2484 409 2743 651 \nQ 3003 894 3003 1313 \nQ 3003 1734 2745 1975 \nQ 2488 2216 2034 2216 \nz\nM 1403 2484 \nQ 997 2584 770 2862 \nQ 544 3141 544 3541 \nQ 544 4100 942 4425 \nQ 1341 4750 2034 4750 \nQ 2731 4750 3128 4425 \nQ 3525 4100 3525 3541 \nQ 3525 3141 3298 2862 \nQ 3072 2584 2669 2484 \nQ 3125 2378 3379 2068 \nQ 3634 1759 3634 1313 \nQ 3634 634 3220 271 \nQ 2806 -91 2034 -91 \nQ 1263 -91 848 271 \nQ 434 634 434 1313 \nQ 434 1759 690 2068 \nQ 947 2378 1403 2484 \nz\nM 1172 3481 \nQ 1172 3119 1398 2916 \nQ 1625 2713 2034 2713 \nQ 2441 2713 2670 2916 \nQ 2900 3119 2900 3481 \nQ 2900 3844 2670 4047 \nQ 2441 4250 2034 4250 \nQ 1625 4250 1398 4047 \nQ 1172 3844 1172 3481 \nz\n\" id=\"DejaVuSans-38\" transform=\"scale(0.015625)\"/>\n       </defs>\n       <use xlink:href=\"#DejaVuSans-38\"/>\n      </g>\n     </g>\n    </g>\n   </g>\n   <g id=\"matplotlib.axis_2\">\n    <g id=\"ytick_1\">\n     <g id=\"line2d_6\">\n      <defs>\n       <path d=\"M 0 0 \nL -3.5 0 \n\" id=\"mb73875d7ce\" style=\"stroke:#000000;stroke-width:0.8;\"/>\n      </defs>\n      <g>\n       <use style=\"stroke:#000000;stroke-width:0.8;\" x=\"20.5625\" xlink:href=\"#mb73875d7ce\" y=\"18.072\"/>\n      </g>\n     </g>\n     <g id=\"text_6\">\n      <!-- 0 -->\n      <g transform=\"translate(7.2 21.871219)scale(0.1 -0.1)\">\n       <use xlink:href=\"#DejaVuSans-30\"/>\n      </g>\n     </g>\n    </g>\n    <g id=\"ytick_2\">\n     <g id=\"line2d_7\">\n      <g>\n       <use style=\"stroke:#000000;stroke-width:0.8;\" x=\"20.5625\" xlink:href=\"#mb73875d7ce\" y=\"61.56\"/>\n      </g>\n     </g>\n     <g id=\"text_7\">\n      <!-- 2 -->\n      <g transform=\"translate(7.2 65.359219)scale(0.1 -0.1)\">\n       <use xlink:href=\"#DejaVuSans-32\"/>\n      </g>\n     </g>\n    </g>\n    <g id=\"ytick_3\">\n     <g id=\"line2d_8\">\n      <g>\n       <use style=\"stroke:#000000;stroke-width:0.8;\" x=\"20.5625\" xlink:href=\"#mb73875d7ce\" y=\"105.048\"/>\n      </g>\n     </g>\n     <g id=\"text_8\">\n      <!-- 4 -->\n      <g transform=\"translate(7.2 108.847219)scale(0.1 -0.1)\">\n       <use xlink:href=\"#DejaVuSans-34\"/>\n      </g>\n     </g>\n    </g>\n    <g id=\"ytick_4\">\n     <g id=\"line2d_9\">\n      <g>\n       <use style=\"stroke:#000000;stroke-width:0.8;\" x=\"20.5625\" xlink:href=\"#mb73875d7ce\" y=\"148.536\"/>\n      </g>\n     </g>\n     <g id=\"text_9\">\n      <!-- 6 -->\n      <g transform=\"translate(7.2 152.335219)scale(0.1 -0.1)\">\n       <use xlink:href=\"#DejaVuSans-36\"/>\n      </g>\n     </g>\n    </g>\n    <g id=\"ytick_5\">\n     <g id=\"line2d_10\">\n      <g>\n       <use style=\"stroke:#000000;stroke-width:0.8;\" x=\"20.5625\" xlink:href=\"#mb73875d7ce\" y=\"192.024\"/>\n      </g>\n     </g>\n     <g id=\"text_10\">\n      <!-- 8 -->\n      <g transform=\"translate(7.2 195.823219)scale(0.1 -0.1)\">\n       <use xlink:href=\"#DejaVuSans-38\"/>\n      </g>\n     </g>\n    </g>\n   </g>\n   <g id=\"patch_3\">\n    <path d=\"M 20.5625 224.64 \nL 20.5625 7.2 \n\" style=\"fill:none;stroke:#000000;stroke-linecap:square;stroke-linejoin:miter;stroke-width:0.8;\"/>\n   </g>\n   <g id=\"patch_4\">\n    <path d=\"M 238.0025 224.64 \nL 238.0025 7.2 \n\" style=\"fill:none;stroke:#000000;stroke-linecap:square;stroke-linejoin:miter;stroke-width:0.8;\"/>\n   </g>\n   <g id=\"patch_5\">\n    <path d=\"M 20.5625 224.64 \nL 238.0025 224.64 \n\" style=\"fill:none;stroke:#000000;stroke-linecap:square;stroke-linejoin:miter;stroke-width:0.8;\"/>\n   </g>\n   <g id=\"patch_6\">\n    <path d=\"M 20.5625 7.2 \nL 238.0025 7.2 \n\" style=\"fill:none;stroke:#000000;stroke-linecap:square;stroke-linejoin:miter;stroke-width:0.8;\"/>\n   </g>\n  </g>\n </g>\n <defs>\n  <clipPath id=\"pdea5c5d4e1\">\n   <rect height=\"217.44\" width=\"217.44\" x=\"20.5625\" y=\"7.2\"/>\n  </clipPath>\n </defs>\n</svg>\n"
                    },
                    "metadata": {
                        "needs_background": "light"
                    }
                }
            ],
            "metadata": {}
        },
        {
            "cell_type": "code",
            "execution_count": 38,
            "source": [
                "def neigh(idx, shape):\n",
                "    rows, cols = shape[:2]\n",
                "    r, c = idx//cols, idx%cols\n",
                "    if c == (cols-1):\n",
                "        return [(r+1)*cols + c]\n",
                "    \n",
                "    if r == (rows-1):\n",
                "        return [r*cols + c+1]\n",
                "\n",
                "    return [r*cols + c+1,  (r+1)*cols + c]"
            ],
            "outputs": [],
            "metadata": {}
        },
        {
            "cell_type": "code",
            "execution_count": 39,
            "source": [
                "neigh(25, (7, 4))"
            ],
            "outputs": [
                {
                    "output_type": "execute_result",
                    "data": {
                        "text/plain": [
                            "[26]"
                        ]
                    },
                    "metadata": {},
                    "execution_count": 39
                }
            ],
            "metadata": {}
        },
        {
            "cell_type": "code",
            "execution_count": 43,
            "source": [
                "im = np.arange(28).reshape((7, 4))"
            ],
            "outputs": [],
            "metadata": {}
        },
        {
            "cell_type": "code",
            "execution_count": 63,
            "source": [
                "import datetime"
            ],
            "outputs": [],
            "metadata": {}
        },
        {
            "cell_type": "code",
            "execution_count": 80,
            "source": [
                "start = datetime.datetime.now()\n",
                "for ix in range(4000):\n",
                "    from_ = []\n",
                "    to_ = []\n",
                "    im = np.arange(35*34*42).reshape((35, 34, 42))\n",
                "    from_ += [im[:-1].flatten()]\n",
                "    from_ += [im[1:].flatten()]\n",
                "    to_ += [im[1:].flatten()]\n",
                "    to_ += [im[:-1].flatten()]\n",
                "\n",
                "    from_ += [im[:, :-1].flatten()]\n",
                "    from_ += [im[:, 1:].flatten()]\n",
                "    to_ += [im[:, 1:].flatten()]\n",
                "    to_ += [im[:, :-1].flatten()]\n",
                "\n",
                "    edges = np.array([np.concatenate(from_, 0), np.concatenate(to_, 0)])\n",
                "print(datetime.datetime.now() - start)\n",
                "print(edges.shape)"
            ],
            "outputs": [
                {
                    "output_type": "stream",
                    "name": "stdout",
                    "text": [
                        "0:00:02.550491\n",
                        "(2, 194124)\n"
                    ]
                }
            ],
            "metadata": {}
        },
        {
            "cell_type": "code",
            "execution_count": 75,
            "source": [
                "np.concatenate(from_, 0).shape"
            ],
            "outputs": [
                {
                    "output_type": "execute_result",
                    "data": {
                        "text/plain": [
                            "(194124,)"
                        ]
                    },
                    "metadata": {},
                    "execution_count": 75
                }
            ],
            "metadata": {}
        },
        {
            "cell_type": "code",
            "execution_count": 82,
            "source": [
                "np.prod(im.shape)"
            ],
            "outputs": [
                {
                    "output_type": "execute_result",
                    "data": {
                        "text/plain": [
                            "49980"
                        ]
                    },
                    "metadata": {},
                    "execution_count": 82
                }
            ],
            "metadata": {}
        },
        {
            "cell_type": "code",
            "execution_count": 84,
            "source": [
                "torch.LongTensor(edges)"
            ],
            "outputs": [
                {
                    "output_type": "execute_result",
                    "data": {
                        "text/plain": [
                            "tensor([[    0,     1,     2,  ..., 49977, 49978, 49979],\n",
                            "        [ 1428,  1429,  1430,  ..., 49935, 49936, 49937]])"
                        ]
                    },
                    "metadata": {},
                    "execution_count": 84
                }
            ],
            "metadata": {}
        },
        {
            "cell_type": "code",
            "execution_count": null,
            "source": [],
            "outputs": [],
            "metadata": {}
        }
    ],
    "metadata": {
        "orig_nbformat": 4,
        "language_info": {
            "name": "python",
            "version": "3.8.3",
            "mimetype": "text/x-python",
            "codemirror_mode": {
                "name": "ipython",
                "version": 3
            },
            "pygments_lexer": "ipython3",
            "nbconvert_exporter": "python",
            "file_extension": ".py"
        },
        "kernelspec": {
            "name": "python3",
            "display_name": "Python 3.8.3 64-bit"
        },
        "interpreter": {
            "hash": "e1a0b73f138b8e46c1ab7ba22a2d68cfb24a87eea0df27b153684073fdda7be0"
        }
    },
    "nbformat": 4,
    "nbformat_minor": 2
}