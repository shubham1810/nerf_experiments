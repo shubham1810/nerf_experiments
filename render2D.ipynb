{
    "cells": [
        {
            "cell_type": "code",
            "execution_count": 1,
            "source": [
                "import torch\n",
                "from torch import nn\n",
                "\n",
                "from utils import *\n",
                "from collections import defaultdict\n",
                "import matplotlib.pyplot as plt\n",
                "import time\n",
                "\n",
                "from models.rendering import *\n",
                "from models.nerf import *\n",
                "\n",
                "import metrics\n",
                "\n",
                "from datasets import dataset_dict\n",
                "from datasets.llff import *\n",
                "from einops import rearrange, reduce, repeat\n",
                "\n",
                "\n",
                "torch.backends.cudnn.benchmark = True\n",
                "\n",
                "img_wh = (504, 378)\n",
                "\n",
                "# dataset = dataset_dict['llff'] \\\n",
                "#           ('/home/ubuntu/data/nerf_example_data/my/silica4/', 'test_train', spheric_poses=True,\n",
                "#            img_wh=img_wh)\n",
                "\n",
                "dataset = dataset_dict['llff2d'] \\\n",
                "          ('/ssd_scratch/cvit/shubham/nerf_llff_data/fern/', 'val',\n",
                "           img_wh=img_wh, apply_skip=True)\n",
                "\n",
                "train_dataset = dataset_dict['llff2d'] \\\n",
                "          ('/ssd_scratch/cvit/shubham/nerf_llff_data/fern/', 'train',\n",
                "           img_wh=img_wh, apply_skip=True)"
            ],
            "outputs": [
                {
                    "output_type": "stream",
                    "name": "stderr",
                    "text": [
                        "/home2/sdokania/.local/lib/python3.8/site-packages/kornia/augmentation/augmentation.py:1830: DeprecationWarning: GaussianBlur is no longer maintained and will be removed from the future versions. Please use RandomGaussianBlur instead.\n",
                        "  warnings.warn(\n"
                    ]
                },
                {
                    "output_type": "stream",
                    "name": "stdout",
                    "text": [
                        "val image is /ssd_scratch/cvit/shubham/nerf_llff_data/fern/images/IMG_4038.JPG\n"
                    ]
                }
            ],
            "metadata": {}
        },
        {
            "cell_type": "code",
            "execution_count": 2,
            "source": [
                "len(train_dataset)"
            ],
            "outputs": [
                {
                    "output_type": "execute_result",
                    "data": {
                        "text/plain": [
                            "3135"
                        ]
                    },
                    "metadata": {},
                    "execution_count": 2
                }
            ],
            "metadata": {}
        },
        {
            "cell_type": "code",
            "execution_count": 3,
            "source": [
                "device = \"cuda\""
            ],
            "outputs": [],
            "metadata": {}
        },
        {
            "cell_type": "code",
            "execution_count": 4,
            "source": [
                "sample = train_dataset[0]\n",
                "rays = sample['rays'].to(device)"
            ],
            "outputs": [],
            "metadata": {}
        },
        {
            "cell_type": "code",
            "execution_count": 5,
            "source": [
                "rays.shape, rays.device"
            ],
            "outputs": [
                {
                    "output_type": "execute_result",
                    "data": {
                        "text/plain": [
                            "(torch.Size([35, 34, 8]), device(type='cuda', index=0))"
                        ]
                    },
                    "metadata": {},
                    "execution_count": 5
                }
            ],
            "metadata": {}
        },
        {
            "cell_type": "code",
            "execution_count": 6,
            "source": [
                "embedding_xyz = Embedding(3, 10).cuda()\n",
                "embedding_dir = Embedding(3, 4).cuda()\n",
                "\n",
                "embeddings = {'xyz': embedding_xyz, 'dir': embedding_dir}\n",
                "\n",
                "# nerf_coarse = NeRF2D().to(device)#K=[1,1,1,1,1,1])\n",
                "# nerf_fine = NeRF2D().to(device)#K=[1,1,1,1,1,1])\n",
                "\n",
                "nerf_coarse = NeRFGraph(D=4, skips=[]).to(device)\n",
                "nerf_fine = NeRFGraph().to(device)\n",
                "\n",
                "models = {'coarse': nerf_coarse, 'fine': nerf_fine}"
            ],
            "outputs": [],
            "metadata": {}
        },
        {
            "cell_type": "code",
            "execution_count": null,
            "source": [],
            "outputs": [],
            "metadata": {}
        },
        {
            "cell_type": "code",
            "execution_count": 7,
            "source": [
                "def sample_pdf2d(bins, weights, N_importance, det=False, eps=1e-5):\n",
                "    h_, w_, ns = weights.shape\n",
                "    weights = weights + eps # avoid division by zero error\n",
                "    pdf = weights / reduce(weights, 'h w n -> h w 1', 'sum')\n",
                "    cdf = torch.cumsum(pdf, -1)\n",
                "\n",
                "    if det:\n",
                "        # Stupid error here if we don't substract with eps. 1 can be included in the\n",
                "        # matrix and it can give error later.\n",
                "        u = torch.linspace(eps, 1, N_importance, device=bins.device) - eps\n",
                "        u = u.expand(h_, w_, N_importance)\n",
                "        u = u.contiguous()\n",
                "    else:\n",
                "        u = torch.rand(h_, w_, N_importance, device=bins.device)\n",
                "\n",
                "    inds = torch.searchsorted(cdf, u, right=True)\n",
                "    below = torch.clamp_min(inds-1, 0)\n",
                "    above = torch.clamp_max(inds, ns-1)\n",
                "\n",
                "    inds_sampled = rearrange(torch.stack([below, above], -1), 'h w n2 c -> h w (n2 c)', c=2)\n",
                "    gathered = torch.gather(cdf, 2, inds_sampled)\n",
                "    cdf_g = rearrange(gathered, 'h w (n2 c) -> h w n2 c', c=2)\n",
                "    bins_g = rearrange(torch.gather(bins, 2, inds_sampled), 'h w (n2 c) -> h w n2 c', c=2)\n",
                "\n",
                "    denom = cdf_g[..., 1] - cdf_g[..., 0]\n",
                "    if (denom<eps).sum() > 0:\n",
                "        denom[denom<eps] = 1 # denom equals 0 means a bin has weight 0,\n",
                "                            # in which case it will not be sampled\n",
                "                            # anyway, therefore any value for it is fine (set to 1 here)\n",
                "    \n",
                "    samples = bins_g[...,0] + (u-cdf_g[...,0])/denom * (bins_g[...,1]-bins_g[...,0])\n",
                "    return samples"
            ],
            "outputs": [],
            "metadata": {}
        },
        {
            "cell_type": "code",
            "execution_count": null,
            "source": [],
            "outputs": [],
            "metadata": {}
        },
        {
            "cell_type": "code",
            "execution_count": 8,
            "source": [
                "def render_2d_rays(models,\n",
                "                embeddings,\n",
                "                rays,\n",
                "                N_samples=64,\n",
                "                use_disp=False,\n",
                "                perturb=0,\n",
                "                noise_std=1,\n",
                "                N_importance=0,\n",
                "                chunk=1024*32,\n",
                "                white_back=False,\n",
                "                test_time=False,\n",
                "                **kwargs\n",
                "                ):\n",
                "    \n",
                "    def inference(results, model, typ, xyz, z_vals, test_time=False, **kwargs):\n",
                "        B = xyz.shape[0]\n",
                "        out_chunks = []\n",
                "        \n",
                "        if typ == 'coarse' and test_time and 'fine' in models:\n",
                "            xyz_parts = []\n",
                "            for i in range(B):\n",
                "                part = xyz[i:i+1]\n",
                "                _b, _c, _h, _w = part.shape\n",
                "\n",
                "                part_emb = embedding_xyz(rearrange(part, 'b c h w -> (b h w) c'))\n",
                "                part_emb = rearrange(part_emb, '(b h w) c -> b c h w', b=_b, h=_h, w=_w)\n",
                "                xyz_parts += [part_emb]\n",
                "\n",
                "            out_chunks += [model(torch.cat(xyz_parts, 0), sigma_only=True)]\n",
                "            \n",
                "            out = torch.cat(out_chunks, 0)\n",
                "            sigmas = rearrange(out, 'b 1 h w -> h w b')\n",
                "        else:\n",
                "            dir_embedded = repeat(dir_emb, 'b c h w -> (b B) c h w', B=B)\n",
                "            xyz_parts = []\n",
                "            for i in range(B):\n",
                "                part = xyz[i:i+1]\n",
                "                _b, _c, _h, _w = part.shape\n",
                "\n",
                "                part_emb = embedding_xyz(rearrange(part, 'b c h w -> (b h w) c'))\n",
                "                part_emb = rearrange(part_emb, '(b h w) c -> b c h w', b=_b, h=_h, w=_w)\n",
                "                xyz_parts += [part_emb]\n",
                "\n",
                "            input_emb = torch.cat([torch.cat(xyz_parts, 0), dir_embedded], 1)\n",
                "            # print(input_emb.shape)\n",
                "            out_chunks += [model(input_emb, sigma_only=False)]\n",
                "            \n",
                "            out = torch.cat(out_chunks, 0)\n",
                "            out = rearrange(out, 'b c h w -> h w b c')\n",
                "            rgbs = out[..., :3]\n",
                "            sigmas = out[..., 3]\n",
                "        \n",
                "        # Now time for processing the inferred data for rendering\n",
                "        deltas = z_vals[..., 1:] - z_vals[..., :-1]\n",
                "        delta_inf = 1e10 * torch.ones_like(deltas[..., :1])\n",
                "        deltas = torch.cat([deltas, delta_inf], -1)\n",
                "        \n",
                "        # compute alpha\n",
                "        noise = torch.randn_like(sigmas) * noise_std\n",
                "        alphas = 1-torch.exp(-deltas * torch.relu(sigmas + noise))\n",
                "        \n",
                "        alphas_shifted = \\\n",
                "            torch.cat([torch.ones_like(alphas[..., :1]), 1-alphas+1e-10], -1)\n",
                "        weights = \\\n",
                "            alphas * torch.cumprod(alphas_shifted[..., :-1], -1)\n",
                "        weights_sum = reduce(weights, 'h w b -> h w', 'sum')\n",
                "        \n",
                "        results[f'weights_{typ}'] = weights\n",
                "        results[f'opacity_{typ}'] = weights_sum\n",
                "        results[f'z_vals_{typ}'] = z_vals\n",
                "        if test_time and typ == 'coarse' and 'fine' in models:\n",
                "            return\n",
                "        \n",
                "        # render colors now\n",
                "        rgb_map = reduce(rearrange(weights, 'h w b -> h w b 1')*rgbs, 'h w b c -> h w c', 'sum')\n",
                "        depth_map = reduce(weights * z_vals, 'h w b -> h w', 'sum')\n",
                "\n",
                "        if white_back:\n",
                "            rgb_map += 1-weights_sum.unsqueeze(-1)\n",
                "        \n",
                "        results[f'rgb_{typ}'] = rgb_map\n",
                "        results[f'depth_{typ}'] = depth_map\n",
                "        \n",
                "        return\n",
                "\n",
                "\n",
                "    embedding_xyz, embedding_dir = embeddings['xyz'], embeddings['dir']\n",
                "    \n",
                "    # Decompose the inputs\n",
                "    h, w, _ = rays.shape\n",
                "    # print(h, w)\n",
                "    rays_o, rays_d = rays[..., 0:3], rays[..., 3:6]\n",
                "    near, far = rays[..., 6:7], rays[..., 7:8]\n",
                "\n",
                "    # Apply direction embedding\n",
                "    _h, _w, _c = rays_d.shape\n",
                "    dir_emb = embedding_dir(rearrange(rays_d, 'h w c -> (h w) c'))\n",
                "    dir_emb = rearrange(dir_emb, '(h w) c -> 1 c h w', h=_h, w=_w)\n",
                "\n",
                "    rays_o = rearrange(rays_o, 'n1 n2 c -> n1 n2 1 c')\n",
                "    rays_d = rearrange(rays_d, 'n1 n2 c -> n1 n2 1 c')\n",
                "\n",
                "    # sample depth points\n",
                "    z_steps = torch.linspace(0, 1, N_samples, device=rays.device)\n",
                "    if not use_disp: # use linear sampling in depth space\n",
                "        z_vals = near * (1-z_steps) + far * z_steps\n",
                "    else: # use linear sampling in disparity space\n",
                "        z_vals = 1/(1/near * (1-z_steps) + 1/far * z_steps)\n",
                "\n",
                "    if perturb > 0: # perturb sampling depths (z_vals)\n",
                "        z_vals_mid = 0.5 * (z_vals[..., :-1] + z_vals[... ,1:]) # (N_rays, N_samples-1) interval mid points\n",
                "        # get intervals between samples\n",
                "        upper = torch.cat([z_vals_mid, z_vals[... ,-1:]], -1)\n",
                "        lower = torch.cat([z_vals[... ,:1], z_vals_mid], -1)\n",
                "        \n",
                "        perturb_rand = perturb * torch.rand_like(z_vals)\n",
                "        z_vals = lower + (upper - lower) * perturb_rand\n",
                "\n",
                "    xyz_coarse = rays_o + rays_d * rearrange(z_vals, 'n1 n2 c -> n1 n2 c 1')\n",
                "    xyz_coarse = rearrange(xyz_coarse, 'h w b c -> b c h w')\n",
                "    # print(xyz_coarse.shape, z_vals.shape, dir_emb.shape)\n",
                "    \n",
                "    results = {}\n",
                "    inference(results, models['coarse'], 'coarse', xyz_coarse, z_vals, test_time)\n",
                "    \n",
                "    if N_importance > 0: # Sample points for the fine model\n",
                "        z_vals_mid = 0.5 * (z_vals[..., :-1] + z_vals[..., 1:])\n",
                "        # return z_vals_mid, results['weights_coarse'][..., 1:-1].detach(), N_importance\n",
                "        z_vals_ = sample_pdf2d(z_vals_mid, results['weights_coarse'][..., 1:-1].detach(),\n",
                "                            N_importance, det=(perturb==0))\n",
                "        z_vals = torch.sort(torch.cat([z_vals, z_vals_], -1), -1)[0]\n",
                "        \n",
                "        # prepare fine points\n",
                "        xyz_fine = rays_o + rays_d * rearrange(z_vals, 'n1 n2 c -> n1 n2 c 1')\n",
                "        xyz_fine = rearrange(xyz_fine, 'h w b c -> b c h w')\n",
                "\n",
                "        inference(results, models['fine'], 'fine', xyz_fine, z_vals, test_time, **kwargs)\n",
                "    \n",
                "    return results"
            ],
            "outputs": [],
            "metadata": {}
        },
        {
            "cell_type": "code",
            "execution_count": null,
            "source": [],
            "outputs": [],
            "metadata": {}
        },
        {
            "cell_type": "code",
            "execution_count": 9,
            "source": [
                "import datetime"
            ],
            "outputs": [],
            "metadata": {}
        },
        {
            "cell_type": "code",
            "execution_count": 10,
            "source": [
                "dataset.apply_skip"
            ],
            "outputs": [
                {
                    "output_type": "execute_result",
                    "data": {
                        "text/plain": [
                            "True"
                        ]
                    },
                    "metadata": {},
                    "execution_count": 10
                }
            ],
            "metadata": {}
        },
        {
            "cell_type": "code",
            "execution_count": 13,
            "source": [
                "sample = train_dataset[0]\n",
                "rays, rgbs = sample['rays'].to(device), sample['rgbs'].to(device)\n",
                "\n",
                "rays.shape\n",
                "# sample.keys()"
            ],
            "outputs": [
                {
                    "output_type": "execute_result",
                    "data": {
                        "text/plain": [
                            "torch.Size([35, 34, 8])"
                        ]
                    },
                    "metadata": {},
                    "execution_count": 13
                }
            ],
            "metadata": {}
        },
        {
            "cell_type": "code",
            "execution_count": 12,
            "source": [
                "tot = 0\n",
                "start = datetime.datetime.now()\n",
                "for trx in range(1):\n",
                "    if dataset.apply_skip:\n",
                "        # Create a template for the outputs\n",
                "        template_rgb_coarse = torch.zeros_like(rgbs)\n",
                "        template_rgb_fine = torch.zeros_like(rgbs)\n",
                "        template_depth_coarse = torch.zeros_like(rgbs[..., 0])\n",
                "        template_depth_fine = torch.zeros_like(rgbs[..., 0])\n",
                "        # Divide the data samples\n",
                "        for sx in range(dataset.skips[0]):\n",
                "            for sy in range(dataset.skips[1]):\n",
                "                rays_segment = rays[sx::dataset.skips[0], sy::dataset.skips[1]]\n",
                "                with torch.no_grad():\n",
                "                    op = render_2d_rays(models,\n",
                "                                    embeddings,\n",
                "                                    rays_segment,\n",
                "                                    N_samples=32,\n",
                "                                    use_disp=False,\n",
                "                                    perturb=1.2,\n",
                "                                    noise_std=1,\n",
                "                                    N_importance=128,\n",
                "                                    chunk=1024*32,\n",
                "                                    white_back=False,\n",
                "                                    test_time=False,\n",
                "                                    )\n",
                "                template_rgb_coarse[sx::dataset.skips[0], sy::dataset.skips[1]] = op['rgb_coarse']\n",
                "    elif dataset.apply_break:\n",
                "        # Create a template for the outputs\n",
                "        template_rgb_coarse = torch.zeros_like(rgbs)\n",
                "        template_rgb_fine = torch.zeros_like(rgbs)\n",
                "        template_depth_coarse = torch.zeros_like(rgbs[..., 0])\n",
                "        template_depth_fine = torch.zeros_like(rgbs[..., 0])\n",
                "        for sx in range(dataset.windows[0]):\n",
                "            row_start, row_end = sx*dataset.img_chunk[1], (sx+1)*dataset.img_chunk[1]\n",
                "            if sx == dataset.windows[0]-1:\n",
                "                row_end = dataset.img_wh[1]\n",
                "            for sy in range(dataset.windows[1]):\n",
                "                col_start, col_end = sy*dataset.img_chunk[0], (sy+1)*dataset.img_chunk[0]\n",
                "                if sy == dataset.windows[1]-1:\n",
                "                    col_end = dataset.img_wh[0]\n",
                "                \n",
                "                rays_segment = rays[row_start:row_end, col_start:col_end]\n",
                "                with torch.no_grad():\n",
                "                    op = render_2d_rays(models,\n",
                "                                    embeddings,\n",
                "                                    rays_segment,\n",
                "                                    N_samples=32,\n",
                "                                    use_disp=False,\n",
                "                                    perturb=1.2,\n",
                "                                    noise_std=1,\n",
                "                                    N_importance=128,\n",
                "                                    chunk=1024*32,\n",
                "                                    white_back=False,\n",
                "                                    test_time=False,\n",
                "                                    )\n",
                "                template_rgb_coarse[row_start:row_end, col_start:col_end] = op['rgb_coarse']\n",
                "print(datetime.datetime.now() - start)"
            ],
            "outputs": [
                {
                    "output_type": "stream",
                    "name": "stdout",
                    "text": [
                        "0:00:59.334797\n"
                    ]
                }
            ],
            "metadata": {}
        },
        {
            "cell_type": "code",
            "execution_count": 11,
            "source": [
                "# (template_rgb_coarse - rgbs).mean()"
            ],
            "outputs": [],
            "metadata": {}
        },
        {
            "cell_type": "code",
            "execution_count": null,
            "source": [],
            "outputs": [],
            "metadata": {}
        },
        {
            "cell_type": "code",
            "execution_count": 11,
            "source": [
                "import datetime"
            ],
            "outputs": [],
            "metadata": {}
        },
        {
            "cell_type": "code",
            "execution_count": 14,
            "source": [
                "start = datetime.datetime.now()\n",
                "with torch.no_grad():\n",
                "    op = render_2d_rays(models,\n",
                "                    embeddings,\n",
                "                    rays,\n",
                "                    N_samples=64,\n",
                "                    use_disp=False,\n",
                "                    perturb=1.2,\n",
                "                    noise_std=1,\n",
                "                    N_importance=64,\n",
                "                    chunk=1024*32,\n",
                "                    white_back=False,\n",
                "                    test_time=False,\n",
                "                    )\n",
                "print(datetime.datetime.now() - start)"
            ],
            "outputs": [
                {
                    "output_type": "stream",
                    "name": "stdout",
                    "text": [
                        "0:00:00.181636\n"
                    ]
                }
            ],
            "metadata": {}
        },
        {
            "cell_type": "code",
            "execution_count": 16,
            "source": [
                "35*34*128"
            ],
            "outputs": [
                {
                    "output_type": "execute_result",
                    "data": {
                        "text/plain": [
                            "152320"
                        ]
                    },
                    "metadata": {},
                    "execution_count": 16
                }
            ],
            "metadata": {}
        },
        {
            "cell_type": "code",
            "execution_count": null,
            "source": [],
            "outputs": [],
            "metadata": {}
        },
        {
            "cell_type": "code",
            "execution_count": 10,
            "source": [
                "for kx in op.keys():\n",
                "    print(kx, op[kx].shape)"
            ],
            "outputs": [
                {
                    "output_type": "stream",
                    "name": "stdout",
                    "text": [
                        "weights_coarse torch.Size([34, 34, 32])\n",
                        "opacity_coarse torch.Size([34, 34])\n",
                        "z_vals_coarse torch.Size([34, 34, 32])\n",
                        "rgb_coarse torch.Size([34, 34, 3])\n",
                        "depth_coarse torch.Size([34, 34])\n",
                        "weights_fine torch.Size([34, 34, 42])\n",
                        "opacity_fine torch.Size([34, 34])\n",
                        "z_vals_fine torch.Size([34, 34, 42])\n",
                        "rgb_fine torch.Size([34, 34, 3])\n",
                        "depth_fine torch.Size([34, 34])\n"
                    ]
                }
            ],
            "metadata": {}
        },
        {
            "cell_type": "code",
            "execution_count": null,
            "source": [
                "# We need the follows\n",
                "# rgb_coarse\n",
                "# rgb_fine\n",
                "# depth_coarse\n",
                "# depth_fine"
            ],
            "outputs": [],
            "metadata": {}
        },
        {
            "cell_type": "code",
            "execution_count": null,
            "source": [],
            "outputs": [],
            "metadata": {}
        },
        {
            "cell_type": "code",
            "execution_count": null,
            "source": [],
            "outputs": [],
            "metadata": {}
        },
        {
            "cell_type": "code",
            "execution_count": 12,
            "source": [],
            "outputs": [
                {
                    "output_type": "execute_result",
                    "data": {
                        "text/plain": [
                            "torch.Size([378, 504, 8])"
                        ]
                    },
                    "metadata": {},
                    "execution_count": 12
                }
            ],
            "metadata": {}
        },
        {
            "cell_type": "code",
            "execution_count": 22,
            "source": [
                "op = render_2d_rays(models,\n",
                "                embeddings,\n",
                "                rays,\n",
                "                N_samples=42,\n",
                "                use_disp=False,\n",
                "                perturb=0,\n",
                "                noise_std=1,\n",
                "                N_importance=96,\n",
                "                chunk=1024*32,\n",
                "                white_back=False,\n",
                "                test_time=False,\n",
                "                )"
            ],
            "outputs": [
                {
                    "output_type": "error",
                    "ename": "RuntimeError",
                    "evalue": "CUDA out of memory. Tried to allocate 200.00 MiB (GPU 0; 10.76 GiB total capacity; 9.40 GiB already allocated; 6.56 MiB free; 9.65 GiB reserved in total by PyTorch)",
                    "traceback": [
                        "\u001b[0;31m---------------------------------------------------------------------------\u001b[0m",
                        "\u001b[0;31mRuntimeError\u001b[0m                              Traceback (most recent call last)",
                        "\u001b[0;32m/tmp/ipykernel_40868/4217509100.py\u001b[0m in \u001b[0;36m<module>\u001b[0;34m\u001b[0m\n\u001b[0;32m----> 1\u001b[0;31m op = render_2d_rays(models,\n\u001b[0m\u001b[1;32m      2\u001b[0m                 \u001b[0membeddings\u001b[0m\u001b[0;34m,\u001b[0m\u001b[0;34m\u001b[0m\u001b[0;34m\u001b[0m\u001b[0m\n\u001b[1;32m      3\u001b[0m                 \u001b[0mrays\u001b[0m\u001b[0;34m,\u001b[0m\u001b[0;34m\u001b[0m\u001b[0;34m\u001b[0m\u001b[0m\n\u001b[1;32m      4\u001b[0m                 \u001b[0mN_samples\u001b[0m\u001b[0;34m=\u001b[0m\u001b[0;36m42\u001b[0m\u001b[0;34m,\u001b[0m\u001b[0;34m\u001b[0m\u001b[0;34m\u001b[0m\u001b[0m\n\u001b[1;32m      5\u001b[0m                 \u001b[0muse_disp\u001b[0m\u001b[0;34m=\u001b[0m\u001b[0;32mFalse\u001b[0m\u001b[0;34m,\u001b[0m\u001b[0;34m\u001b[0m\u001b[0;34m\u001b[0m\u001b[0m\n",
                        "\u001b[0;32m/tmp/ipykernel_40868/66816133.py\u001b[0m in \u001b[0;36mrender_2d_rays\u001b[0;34m(models, embeddings, rays, N_samples, use_disp, perturb, noise_std, N_importance, chunk, white_back, test_time, **kwargs)\u001b[0m\n\u001b[1;32m    129\u001b[0m         \u001b[0mxyz_fine\u001b[0m \u001b[0;34m=\u001b[0m \u001b[0mrearrange\u001b[0m\u001b[0;34m(\u001b[0m\u001b[0mxyz_fine\u001b[0m\u001b[0;34m,\u001b[0m \u001b[0;34m'h w b c -> b c h w'\u001b[0m\u001b[0;34m)\u001b[0m\u001b[0;34m\u001b[0m\u001b[0;34m\u001b[0m\u001b[0m\n\u001b[1;32m    130\u001b[0m \u001b[0;34m\u001b[0m\u001b[0m\n\u001b[0;32m--> 131\u001b[0;31m         \u001b[0minference\u001b[0m\u001b[0;34m(\u001b[0m\u001b[0mresults\u001b[0m\u001b[0;34m,\u001b[0m \u001b[0mmodels\u001b[0m\u001b[0;34m[\u001b[0m\u001b[0;34m'fine'\u001b[0m\u001b[0;34m]\u001b[0m\u001b[0;34m,\u001b[0m \u001b[0;34m'fine'\u001b[0m\u001b[0;34m,\u001b[0m \u001b[0mxyz_fine\u001b[0m\u001b[0;34m,\u001b[0m \u001b[0mz_vals\u001b[0m\u001b[0;34m,\u001b[0m \u001b[0mtest_time\u001b[0m\u001b[0;34m,\u001b[0m \u001b[0;34m**\u001b[0m\u001b[0mkwargs\u001b[0m\u001b[0;34m)\u001b[0m\u001b[0;34m\u001b[0m\u001b[0;34m\u001b[0m\u001b[0m\n\u001b[0m\u001b[1;32m    132\u001b[0m \u001b[0;34m\u001b[0m\u001b[0m\n\u001b[1;32m    133\u001b[0m     \u001b[0;32mreturn\u001b[0m \u001b[0mresults\u001b[0m\u001b[0;34m\u001b[0m\u001b[0;34m\u001b[0m\u001b[0m\n",
                        "\u001b[0;32m/tmp/ipykernel_40868/66816133.py\u001b[0m in \u001b[0;36minference\u001b[0;34m(results, model, typ, xyz, z_vals, test_time, **kwargs)\u001b[0m\n\u001b[1;32m     39\u001b[0m \u001b[0;34m\u001b[0m\u001b[0m\n\u001b[1;32m     40\u001b[0m             \u001b[0minput_emb\u001b[0m \u001b[0;34m=\u001b[0m \u001b[0mtorch\u001b[0m\u001b[0;34m.\u001b[0m\u001b[0mcat\u001b[0m\u001b[0;34m(\u001b[0m\u001b[0;34m[\u001b[0m\u001b[0mtorch\u001b[0m\u001b[0;34m.\u001b[0m\u001b[0mcat\u001b[0m\u001b[0;34m(\u001b[0m\u001b[0mxyz_parts\u001b[0m\u001b[0;34m,\u001b[0m \u001b[0;36m0\u001b[0m\u001b[0;34m)\u001b[0m\u001b[0;34m,\u001b[0m \u001b[0mdir_embedded\u001b[0m\u001b[0;34m]\u001b[0m\u001b[0;34m,\u001b[0m \u001b[0;36m1\u001b[0m\u001b[0;34m)\u001b[0m\u001b[0;34m\u001b[0m\u001b[0;34m\u001b[0m\u001b[0m\n\u001b[0;32m---> 41\u001b[0;31m             \u001b[0mout_chunks\u001b[0m \u001b[0;34m+=\u001b[0m \u001b[0;34m[\u001b[0m\u001b[0mmodel\u001b[0m\u001b[0;34m(\u001b[0m\u001b[0minput_emb\u001b[0m\u001b[0;34m,\u001b[0m \u001b[0msigma_only\u001b[0m\u001b[0;34m=\u001b[0m\u001b[0;32mFalse\u001b[0m\u001b[0;34m)\u001b[0m\u001b[0;34m]\u001b[0m\u001b[0;34m\u001b[0m\u001b[0;34m\u001b[0m\u001b[0m\n\u001b[0m\u001b[1;32m     42\u001b[0m \u001b[0;34m\u001b[0m\u001b[0m\n\u001b[1;32m     43\u001b[0m             \u001b[0mout\u001b[0m \u001b[0;34m=\u001b[0m \u001b[0mtorch\u001b[0m\u001b[0;34m.\u001b[0m\u001b[0mcat\u001b[0m\u001b[0;34m(\u001b[0m\u001b[0mout_chunks\u001b[0m\u001b[0;34m,\u001b[0m \u001b[0;36m0\u001b[0m\u001b[0;34m)\u001b[0m\u001b[0;34m\u001b[0m\u001b[0;34m\u001b[0m\u001b[0m\n",
                        "\u001b[0;32m~/.local/lib/python3.8/site-packages/torch/nn/modules/module.py\u001b[0m in \u001b[0;36m_call_impl\u001b[0;34m(self, *input, **kwargs)\u001b[0m\n\u001b[1;32m    887\u001b[0m             \u001b[0mresult\u001b[0m \u001b[0;34m=\u001b[0m \u001b[0mself\u001b[0m\u001b[0;34m.\u001b[0m\u001b[0m_slow_forward\u001b[0m\u001b[0;34m(\u001b[0m\u001b[0;34m*\u001b[0m\u001b[0minput\u001b[0m\u001b[0;34m,\u001b[0m \u001b[0;34m**\u001b[0m\u001b[0mkwargs\u001b[0m\u001b[0;34m)\u001b[0m\u001b[0;34m\u001b[0m\u001b[0;34m\u001b[0m\u001b[0m\n\u001b[1;32m    888\u001b[0m         \u001b[0;32melse\u001b[0m\u001b[0;34m:\u001b[0m\u001b[0;34m\u001b[0m\u001b[0;34m\u001b[0m\u001b[0m\n\u001b[0;32m--> 889\u001b[0;31m             \u001b[0mresult\u001b[0m \u001b[0;34m=\u001b[0m \u001b[0mself\u001b[0m\u001b[0;34m.\u001b[0m\u001b[0mforward\u001b[0m\u001b[0;34m(\u001b[0m\u001b[0;34m*\u001b[0m\u001b[0minput\u001b[0m\u001b[0;34m,\u001b[0m \u001b[0;34m**\u001b[0m\u001b[0mkwargs\u001b[0m\u001b[0;34m)\u001b[0m\u001b[0;34m\u001b[0m\u001b[0;34m\u001b[0m\u001b[0m\n\u001b[0m\u001b[1;32m    890\u001b[0m         for hook in itertools.chain(\n\u001b[1;32m    891\u001b[0m                 \u001b[0m_global_forward_hooks\u001b[0m\u001b[0;34m.\u001b[0m\u001b[0mvalues\u001b[0m\u001b[0;34m(\u001b[0m\u001b[0;34m)\u001b[0m\u001b[0;34m,\u001b[0m\u001b[0;34m\u001b[0m\u001b[0;34m\u001b[0m\u001b[0m\n",
                        "\u001b[0;32m~/all_projects/nerf/graph_exp/nerf_pl/models/nerf.py\u001b[0m in \u001b[0;36mforward\u001b[0;34m(self, x, sigma_only)\u001b[0m\n\u001b[1;32m    324\u001b[0m         \u001b[0;32mfor\u001b[0m \u001b[0mi\u001b[0m \u001b[0;32min\u001b[0m \u001b[0mrange\u001b[0m\u001b[0;34m(\u001b[0m\u001b[0mself\u001b[0m\u001b[0;34m.\u001b[0m\u001b[0mD\u001b[0m\u001b[0;34m)\u001b[0m\u001b[0;34m:\u001b[0m\u001b[0;34m\u001b[0m\u001b[0;34m\u001b[0m\u001b[0m\n\u001b[1;32m    325\u001b[0m             \u001b[0;32mif\u001b[0m \u001b[0mi\u001b[0m \u001b[0;32min\u001b[0m \u001b[0mself\u001b[0m\u001b[0;34m.\u001b[0m\u001b[0mskips\u001b[0m\u001b[0;34m:\u001b[0m\u001b[0;34m\u001b[0m\u001b[0;34m\u001b[0m\u001b[0m\n\u001b[0;32m--> 326\u001b[0;31m                 \u001b[0mxyz_\u001b[0m \u001b[0;34m=\u001b[0m \u001b[0mtorch\u001b[0m\u001b[0;34m.\u001b[0m\u001b[0mcat\u001b[0m\u001b[0;34m(\u001b[0m\u001b[0;34m[\u001b[0m\u001b[0minput_xyz\u001b[0m\u001b[0;34m,\u001b[0m \u001b[0mxyz_\u001b[0m\u001b[0;34m]\u001b[0m\u001b[0;34m,\u001b[0m \u001b[0;36m1\u001b[0m\u001b[0;34m)\u001b[0m\u001b[0;34m\u001b[0m\u001b[0;34m\u001b[0m\u001b[0m\n\u001b[0m\u001b[1;32m    327\u001b[0m             \u001b[0mxyz_\u001b[0m \u001b[0;34m=\u001b[0m  \u001b[0mgetattr\u001b[0m\u001b[0;34m(\u001b[0m\u001b[0mself\u001b[0m\u001b[0;34m,\u001b[0m \u001b[0;34mf\"xyz_encoding_{i+1}\"\u001b[0m\u001b[0;34m)\u001b[0m\u001b[0;34m(\u001b[0m\u001b[0mxyz_\u001b[0m\u001b[0;34m)\u001b[0m\u001b[0;34m\u001b[0m\u001b[0;34m\u001b[0m\u001b[0m\n\u001b[1;32m    328\u001b[0m \u001b[0;34m\u001b[0m\u001b[0m\n",
                        "\u001b[0;31mRuntimeError\u001b[0m: CUDA out of memory. Tried to allocate 200.00 MiB (GPU 0; 10.76 GiB total capacity; 9.40 GiB already allocated; 6.56 MiB free; 9.65 GiB reserved in total by PyTorch)"
                    ]
                }
            ],
            "metadata": {}
        },
        {
            "cell_type": "code",
            "execution_count": 20,
            "source": [
                "for kx in op.keys():\n",
                "    print(kx, op[kx].shape)"
            ],
            "outputs": [
                {
                    "output_type": "stream",
                    "name": "stdout",
                    "text": [
                        "weights_coarse torch.Size([35, 34, 42])\n",
                        "opacity_coarse torch.Size([35, 34])\n",
                        "z_vals_coarse torch.Size([35, 34, 42])\n",
                        "rgb_coarse torch.Size([35, 34, 3])\n",
                        "depth_coarse torch.Size([35, 34])\n",
                        "weights_fine torch.Size([35, 34, 170])\n",
                        "opacity_fine torch.Size([35, 34])\n",
                        "z_vals_fine torch.Size([35, 34, 170])\n",
                        "rgb_fine torch.Size([35, 34, 3])\n",
                        "depth_fine torch.Size([35, 34])\n"
                    ]
                }
            ],
            "metadata": {}
        },
        {
            "cell_type": "code",
            "execution_count": null,
            "source": [],
            "outputs": [],
            "metadata": {}
        },
        {
            "cell_type": "markdown",
            "source": [
                "## Build CNN model here"
            ],
            "metadata": {}
        },
        {
            "cell_type": "code",
            "execution_count": 93,
            "source": [
                "from torch import nn"
            ],
            "outputs": [],
            "metadata": {}
        },
        {
            "cell_type": "code",
            "execution_count": null,
            "source": [],
            "outputs": [],
            "metadata": {}
        },
        {
            "cell_type": "code",
            "execution_count": 94,
            "source": [
                "part = xyz_coarse[2:3]\n",
                "_b, _c, _h, _w = part.shape\n",
                "\n",
                "part_emb = embedding_xyz(rearrange(part, 'b c h w -> (b h w) c'))\n",
                "part_emb = rearrange(part_emb, '(b h w) c -> b c h w', b=_b, h=_h, w=_w)\n",
                "print(part_emb.shape)"
            ],
            "outputs": [
                {
                    "output_type": "stream",
                    "name": "stdout",
                    "text": [
                        "torch.Size([1, 63, 400, 400])\n"
                    ]
                }
            ],
            "metadata": {}
        },
        {
            "cell_type": "code",
            "execution_count": 95,
            "source": [],
            "outputs": [],
            "metadata": {}
        },
        {
            "cell_type": "code",
            "execution_count": 96,
            "source": [
                "net = NeRF2D(K=[3, 5, 1, 1, 5, 3, 1, 1])"
            ],
            "outputs": [],
            "metadata": {}
        },
        {
            "cell_type": "code",
            "execution_count": 97,
            "source": [
                "out = net(torch.cat([part_emb, dir_emb], 1), sigma_only=False)\n",
                "out.shape"
            ],
            "outputs": [
                {
                    "output_type": "execute_result",
                    "data": {
                        "text/plain": [
                            "torch.Size([1, 4, 400, 400])"
                        ]
                    },
                    "metadata": {},
                    "execution_count": 97
                }
            ],
            "metadata": {}
        },
        {
            "cell_type": "code",
            "execution_count": 105,
            "source": [
                "# plt.imshow(out[0, ].permute(1, 2, 0).data.numpy())\n",
                "plt.imshow(out[0, 3].data.numpy())"
            ],
            "outputs": [
                {
                    "output_type": "execute_result",
                    "data": {
                        "text/plain": [
                            "<matplotlib.image.AxesImage at 0x7f69cf0b6dc0>"
                        ]
                    },
                    "metadata": {},
                    "execution_count": 105
                },
                {
                    "output_type": "display_data",
                    "data": {
                        "text/plain": [
                            "<Figure size 432x288 with 1 Axes>"
                        ],
                        "image/svg+xml": "<?xml version=\"1.0\" encoding=\"utf-8\" standalone=\"no\"?>\n<!DOCTYPE svg PUBLIC \"-//W3C//DTD SVG 1.1//EN\"\n  \"http://www.w3.org/Graphics/SVG/1.1/DTD/svg11.dtd\">\n<svg height=\"252.045544pt\" version=\"1.1\" viewBox=\"0 0 257.9275 252.045544\" width=\"257.9275pt\" xmlns=\"http://www.w3.org/2000/svg\" xmlns:xlink=\"http://www.w3.org/1999/xlink\">\n <metadata>\n  <rdf:RDF xmlns:cc=\"http://creativecommons.org/ns#\" xmlns:dc=\"http://purl.org/dc/elements/1.1/\" xmlns:rdf=\"http://www.w3.org/1999/02/22-rdf-syntax-ns#\">\n   <cc:Work>\n    <dc:type rdf:resource=\"http://purl.org/dc/dcmitype/StillImage\"/>\n    <dc:date>2021-07-19T10:36:30.462271</dc:date>\n    <dc:format>image/svg+xml</dc:format>\n    <dc:creator>\n     <cc:Agent>\n      <dc:title>Matplotlib v3.4.1, https://matplotlib.org/</dc:title>\n     </cc:Agent>\n    </dc:creator>\n   </cc:Work>\n  </rdf:RDF>\n </metadata>\n <defs>\n  <style type=\"text/css\">*{stroke-linecap:butt;stroke-linejoin:round;}</style>\n </defs>\n <g id=\"figure_1\">\n  <g id=\"patch_1\">\n   <path d=\"M 0 252.045544 \nL 257.9275 252.045544 \nL 257.9275 0 \nL 0 0 \nz\n\" style=\"fill:none;\"/>\n  </g>\n  <g id=\"axes_1\">\n   <g id=\"patch_2\">\n    <path d=\"M 33.2875 228.167419 \nL 250.7275 228.167419 \nL 250.7275 10.727419 \nL 33.2875 10.727419 \nz\n\" style=\"fill:#ffffff;\"/>\n   </g>\n   <g clip-path=\"url(#p4393582650)\">\n    <image height=\"218\" id=\"imagefaee0e9b63\" transform=\"scale(1 -1)translate(0 -218)\" width=\"218\" x=\"33.2875\" xlink:href=\"data:image/png;base64,\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\" y=\"-10.167419\"/>\n   </g>\n   <g id=\"matplotlib.axis_1\">\n    <g id=\"xtick_1\">\n     <g id=\"line2d_1\">\n      <defs>\n       <path d=\"M 0 0 \nL 0 3.5 \n\" id=\"m500a17ee96\" style=\"stroke:#000000;stroke-width:0.8;\"/>\n      </defs>\n      <g>\n       <use style=\"stroke:#000000;stroke-width:0.8;\" x=\"33.5593\" xlink:href=\"#m500a17ee96\" y=\"228.167419\"/>\n      </g>\n     </g>\n     <g id=\"text_1\">\n      <!-- 0 -->\n      <g transform=\"translate(30.37805 242.765856)scale(0.1 -0.1)\">\n       <defs>\n        <path d=\"M 2034 4250 \nQ 1547 4250 1301 3770 \nQ 1056 3291 1056 2328 \nQ 1056 1369 1301 889 \nQ 1547 409 2034 409 \nQ 2525 409 2770 889 \nQ 3016 1369 3016 2328 \nQ 3016 3291 2770 3770 \nQ 2525 4250 2034 4250 \nz\nM 2034 4750 \nQ 2819 4750 3233 4129 \nQ 3647 3509 3647 2328 \nQ 3647 1150 3233 529 \nQ 2819 -91 2034 -91 \nQ 1250 -91 836 529 \nQ 422 1150 422 2328 \nQ 422 3509 836 4129 \nQ 1250 4750 2034 4750 \nz\n\" id=\"DejaVuSans-30\" transform=\"scale(0.015625)\"/>\n       </defs>\n       <use xlink:href=\"#DejaVuSans-30\"/>\n      </g>\n     </g>\n    </g>\n    <g id=\"xtick_2\">\n     <g id=\"line2d_2\">\n      <g>\n       <use style=\"stroke:#000000;stroke-width:0.8;\" x=\"87.9193\" xlink:href=\"#m500a17ee96\" y=\"228.167419\"/>\n      </g>\n     </g>\n     <g id=\"text_2\">\n      <!-- 100 -->\n      <g transform=\"translate(78.37555 242.765856)scale(0.1 -0.1)\">\n       <defs>\n        <path d=\"M 794 531 \nL 1825 531 \nL 1825 4091 \nL 703 3866 \nL 703 4441 \nL 1819 4666 \nL 2450 4666 \nL 2450 531 \nL 3481 531 \nL 3481 0 \nL 794 0 \nL 794 531 \nz\n\" id=\"DejaVuSans-31\" transform=\"scale(0.015625)\"/>\n       </defs>\n       <use xlink:href=\"#DejaVuSans-31\"/>\n       <use x=\"63.623047\" xlink:href=\"#DejaVuSans-30\"/>\n       <use x=\"127.246094\" xlink:href=\"#DejaVuSans-30\"/>\n      </g>\n     </g>\n    </g>\n    <g id=\"xtick_3\">\n     <g id=\"line2d_3\">\n      <g>\n       <use style=\"stroke:#000000;stroke-width:0.8;\" x=\"142.2793\" xlink:href=\"#m500a17ee96\" y=\"228.167419\"/>\n      </g>\n     </g>\n     <g id=\"text_3\">\n      <!-- 200 -->\n      <g transform=\"translate(132.73555 242.765856)scale(0.1 -0.1)\">\n       <defs>\n        <path d=\"M 1228 531 \nL 3431 531 \nL 3431 0 \nL 469 0 \nL 469 531 \nQ 828 903 1448 1529 \nQ 2069 2156 2228 2338 \nQ 2531 2678 2651 2914 \nQ 2772 3150 2772 3378 \nQ 2772 3750 2511 3984 \nQ 2250 4219 1831 4219 \nQ 1534 4219 1204 4116 \nQ 875 4013 500 3803 \nL 500 4441 \nQ 881 4594 1212 4672 \nQ 1544 4750 1819 4750 \nQ 2544 4750 2975 4387 \nQ 3406 4025 3406 3419 \nQ 3406 3131 3298 2873 \nQ 3191 2616 2906 2266 \nQ 2828 2175 2409 1742 \nQ 1991 1309 1228 531 \nz\n\" id=\"DejaVuSans-32\" transform=\"scale(0.015625)\"/>\n       </defs>\n       <use xlink:href=\"#DejaVuSans-32\"/>\n       <use x=\"63.623047\" xlink:href=\"#DejaVuSans-30\"/>\n       <use x=\"127.246094\" xlink:href=\"#DejaVuSans-30\"/>\n      </g>\n     </g>\n    </g>\n    <g id=\"xtick_4\">\n     <g id=\"line2d_4\">\n      <g>\n       <use style=\"stroke:#000000;stroke-width:0.8;\" x=\"196.6393\" xlink:href=\"#m500a17ee96\" y=\"228.167419\"/>\n      </g>\n     </g>\n     <g id=\"text_4\">\n      <!-- 300 -->\n      <g transform=\"translate(187.09555 242.765856)scale(0.1 -0.1)\">\n       <defs>\n        <path d=\"M 2597 2516 \nQ 3050 2419 3304 2112 \nQ 3559 1806 3559 1356 \nQ 3559 666 3084 287 \nQ 2609 -91 1734 -91 \nQ 1441 -91 1130 -33 \nQ 819 25 488 141 \nL 488 750 \nQ 750 597 1062 519 \nQ 1375 441 1716 441 \nQ 2309 441 2620 675 \nQ 2931 909 2931 1356 \nQ 2931 1769 2642 2001 \nQ 2353 2234 1838 2234 \nL 1294 2234 \nL 1294 2753 \nL 1863 2753 \nQ 2328 2753 2575 2939 \nQ 2822 3125 2822 3475 \nQ 2822 3834 2567 4026 \nQ 2313 4219 1838 4219 \nQ 1578 4219 1281 4162 \nQ 984 4106 628 3988 \nL 628 4550 \nQ 988 4650 1302 4700 \nQ 1616 4750 1894 4750 \nQ 2613 4750 3031 4423 \nQ 3450 4097 3450 3541 \nQ 3450 3153 3228 2886 \nQ 3006 2619 2597 2516 \nz\n\" id=\"DejaVuSans-33\" transform=\"scale(0.015625)\"/>\n       </defs>\n       <use xlink:href=\"#DejaVuSans-33\"/>\n       <use x=\"63.623047\" xlink:href=\"#DejaVuSans-30\"/>\n       <use x=\"127.246094\" xlink:href=\"#DejaVuSans-30\"/>\n      </g>\n     </g>\n    </g>\n   </g>\n   <g id=\"matplotlib.axis_2\">\n    <g id=\"ytick_1\">\n     <g id=\"line2d_5\">\n      <defs>\n       <path d=\"M 0 0 \nL -3.5 0 \n\" id=\"m8212f4996e\" style=\"stroke:#000000;stroke-width:0.8;\"/>\n      </defs>\n      <g>\n       <use style=\"stroke:#000000;stroke-width:0.8;\" x=\"33.2875\" xlink:href=\"#m8212f4996e\" y=\"10.999219\"/>\n      </g>\n     </g>\n     <g id=\"text_5\">\n      <!-- 0 -->\n      <g transform=\"translate(19.925 14.798438)scale(0.1 -0.1)\">\n       <use xlink:href=\"#DejaVuSans-30\"/>\n      </g>\n     </g>\n    </g>\n    <g id=\"ytick_2\">\n     <g id=\"line2d_6\">\n      <g>\n       <use style=\"stroke:#000000;stroke-width:0.8;\" x=\"33.2875\" xlink:href=\"#m8212f4996e\" y=\"38.179219\"/>\n      </g>\n     </g>\n     <g id=\"text_6\">\n      <!-- 50 -->\n      <g transform=\"translate(13.5625 41.978438)scale(0.1 -0.1)\">\n       <defs>\n        <path d=\"M 691 4666 \nL 3169 4666 \nL 3169 4134 \nL 1269 4134 \nL 1269 2991 \nQ 1406 3038 1543 3061 \nQ 1681 3084 1819 3084 \nQ 2600 3084 3056 2656 \nQ 3513 2228 3513 1497 \nQ 3513 744 3044 326 \nQ 2575 -91 1722 -91 \nQ 1428 -91 1123 -41 \nQ 819 9 494 109 \nL 494 744 \nQ 775 591 1075 516 \nQ 1375 441 1709 441 \nQ 2250 441 2565 725 \nQ 2881 1009 2881 1497 \nQ 2881 1984 2565 2268 \nQ 2250 2553 1709 2553 \nQ 1456 2553 1204 2497 \nQ 953 2441 691 2322 \nL 691 4666 \nz\n\" id=\"DejaVuSans-35\" transform=\"scale(0.015625)\"/>\n       </defs>\n       <use xlink:href=\"#DejaVuSans-35\"/>\n       <use x=\"63.623047\" xlink:href=\"#DejaVuSans-30\"/>\n      </g>\n     </g>\n    </g>\n    <g id=\"ytick_3\">\n     <g id=\"line2d_7\">\n      <g>\n       <use style=\"stroke:#000000;stroke-width:0.8;\" x=\"33.2875\" xlink:href=\"#m8212f4996e\" y=\"65.359219\"/>\n      </g>\n     </g>\n     <g id=\"text_7\">\n      <!-- 100 -->\n      <g transform=\"translate(7.2 69.158438)scale(0.1 -0.1)\">\n       <use xlink:href=\"#DejaVuSans-31\"/>\n       <use x=\"63.623047\" xlink:href=\"#DejaVuSans-30\"/>\n       <use x=\"127.246094\" xlink:href=\"#DejaVuSans-30\"/>\n      </g>\n     </g>\n    </g>\n    <g id=\"ytick_4\">\n     <g id=\"line2d_8\">\n      <g>\n       <use style=\"stroke:#000000;stroke-width:0.8;\" x=\"33.2875\" xlink:href=\"#m8212f4996e\" y=\"92.539219\"/>\n      </g>\n     </g>\n     <g id=\"text_8\">\n      <!-- 150 -->\n      <g transform=\"translate(7.2 96.338437)scale(0.1 -0.1)\">\n       <use xlink:href=\"#DejaVuSans-31\"/>\n       <use x=\"63.623047\" xlink:href=\"#DejaVuSans-35\"/>\n       <use x=\"127.246094\" xlink:href=\"#DejaVuSans-30\"/>\n      </g>\n     </g>\n    </g>\n    <g id=\"ytick_5\">\n     <g id=\"line2d_9\">\n      <g>\n       <use style=\"stroke:#000000;stroke-width:0.8;\" x=\"33.2875\" xlink:href=\"#m8212f4996e\" y=\"119.719219\"/>\n      </g>\n     </g>\n     <g id=\"text_9\">\n      <!-- 200 -->\n      <g transform=\"translate(7.2 123.518438)scale(0.1 -0.1)\">\n       <use xlink:href=\"#DejaVuSans-32\"/>\n       <use x=\"63.623047\" xlink:href=\"#DejaVuSans-30\"/>\n       <use x=\"127.246094\" xlink:href=\"#DejaVuSans-30\"/>\n      </g>\n     </g>\n    </g>\n    <g id=\"ytick_6\">\n     <g id=\"line2d_10\">\n      <g>\n       <use style=\"stroke:#000000;stroke-width:0.8;\" x=\"33.2875\" xlink:href=\"#m8212f4996e\" y=\"146.899219\"/>\n      </g>\n     </g>\n     <g id=\"text_10\">\n      <!-- 250 -->\n      <g transform=\"translate(7.2 150.698438)scale(0.1 -0.1)\">\n       <use xlink:href=\"#DejaVuSans-32\"/>\n       <use x=\"63.623047\" xlink:href=\"#DejaVuSans-35\"/>\n       <use x=\"127.246094\" xlink:href=\"#DejaVuSans-30\"/>\n      </g>\n     </g>\n    </g>\n    <g id=\"ytick_7\">\n     <g id=\"line2d_11\">\n      <g>\n       <use style=\"stroke:#000000;stroke-width:0.8;\" x=\"33.2875\" xlink:href=\"#m8212f4996e\" y=\"174.079219\"/>\n      </g>\n     </g>\n     <g id=\"text_11\">\n      <!-- 300 -->\n      <g transform=\"translate(7.2 177.878437)scale(0.1 -0.1)\">\n       <use xlink:href=\"#DejaVuSans-33\"/>\n       <use x=\"63.623047\" xlink:href=\"#DejaVuSans-30\"/>\n       <use x=\"127.246094\" xlink:href=\"#DejaVuSans-30\"/>\n      </g>\n     </g>\n    </g>\n    <g id=\"ytick_8\">\n     <g id=\"line2d_12\">\n      <g>\n       <use style=\"stroke:#000000;stroke-width:0.8;\" x=\"33.2875\" xlink:href=\"#m8212f4996e\" y=\"201.259219\"/>\n      </g>\n     </g>\n     <g id=\"text_12\">\n      <!-- 350 -->\n      <g transform=\"translate(7.2 205.058437)scale(0.1 -0.1)\">\n       <use xlink:href=\"#DejaVuSans-33\"/>\n       <use x=\"63.623047\" xlink:href=\"#DejaVuSans-35\"/>\n       <use x=\"127.246094\" xlink:href=\"#DejaVuSans-30\"/>\n      </g>\n     </g>\n    </g>\n   </g>\n   <g id=\"patch_3\">\n    <path d=\"M 33.2875 228.167419 \nL 33.2875 10.727419 \n\" style=\"fill:none;stroke:#000000;stroke-linecap:square;stroke-linejoin:miter;stroke-width:0.8;\"/>\n   </g>\n   <g id=\"patch_4\">\n    <path d=\"M 250.7275 228.167419 \nL 250.7275 10.727419 \n\" style=\"fill:none;stroke:#000000;stroke-linecap:square;stroke-linejoin:miter;stroke-width:0.8;\"/>\n   </g>\n   <g id=\"patch_5\">\n    <path d=\"M 33.2875 228.167419 \nL 250.7275 228.167419 \n\" style=\"fill:none;stroke:#000000;stroke-linecap:square;stroke-linejoin:miter;stroke-width:0.8;\"/>\n   </g>\n   <g id=\"patch_6\">\n    <path d=\"M 33.2875 10.727419 \nL 250.7275 10.727419 \n\" style=\"fill:none;stroke:#000000;stroke-linecap:square;stroke-linejoin:miter;stroke-width:0.8;\"/>\n   </g>\n  </g>\n </g>\n <defs>\n  <clipPath id=\"p4393582650\">\n   <rect height=\"217.44\" width=\"217.44\" x=\"33.2875\" y=\"10.727419\"/>\n  </clipPath>\n </defs>\n</svg>\n",
                        "application/vnd.code.notebook.error": {
                            "name": "ReferenceError",
                            "message": "atob is not defined",
                            "stack": "ReferenceError: atob is not defined\n\tat i (/home2/sdokania/.vscode-server-insiders/bin/04485223ebc6a075f39966bf9b3e261359ac7818/extensions/ipynb/dist/ipynbMain.js:1:2580)\n\tat k (/home2/sdokania/.vscode-server-insiders/bin/04485223ebc6a075f39966bf9b3e261359ac7818/extensions/ipynb/dist/ipynbMain.js:1:7437)\n\tat h (/home2/sdokania/.vscode-server-insiders/bin/04485223ebc6a075f39966bf9b3e261359ac7818/extensions/ipynb/dist/ipynbMain.js:1:7733)\n\tat Array.map (<anonymous>)\n\tat /home2/sdokania/.vscode-server-insiders/bin/04485223ebc6a075f39966bf9b3e261359ac7818/extensions/ipynb/dist/ipynbMain.js:1:8885\n\tat /home2/sdokania/.vscode-server-insiders/bin/04485223ebc6a075f39966bf9b3e261359ac7818/extensions/ipynb/dist/ipynbMain.js:1:9127\n\tat /home2/sdokania/.vscode-server-insiders/bin/04485223ebc6a075f39966bf9b3e261359ac7818/extensions/ipynb/dist/ipynbMain.js:1:9134\n\tat Array.map (<anonymous>)\n\tat e.jupyterNotebookModelToNotebookData (/home2/sdokania/.vscode-server-insiders/bin/04485223ebc6a075f39966bf9b3e261359ac7818/extensions/ipynb/dist/ipynbMain.js:1:8443)\n\tat e.NotebookSerializer.deserializeNotebook (/home2/sdokania/.vscode-server-insiders/bin/04485223ebc6a075f39966bf9b3e261359ac7818/extensions/ipynb/dist/ipynbMain.js:1:9936)\n\tat _.$dataToNotebook (/home2/sdokania/.vscode-server-insiders/bin/04485223ebc6a075f39966bf9b3e261359ac7818/out/vs/server/remoteExtensionHostProcess.js:85:210435)\n\tat d._doInvokeHandler (/home2/sdokania/.vscode-server-insiders/bin/04485223ebc6a075f39966bf9b3e261359ac7818/out/vs/server/remoteExtensionHostProcess.js:89:12819)\n\tat d._invokeHandler (/home2/sdokania/.vscode-server-insiders/bin/04485223ebc6a075f39966bf9b3e261359ac7818/out/vs/server/remoteExtensionHostProcess.js:89:12503)\n\tat d._receiveRequest (/home2/sdokania/.vscode-server-insiders/bin/04485223ebc6a075f39966bf9b3e261359ac7818/out/vs/server/remoteExtensionHostProcess.js:89:11107)\n\tat d._receiveOneMessage (/home2/sdokania/.vscode-server-insiders/bin/04485223ebc6a075f39966bf9b3e261359ac7818/out/vs/server/remoteExtensionHostProcess.js:89:10142)\n\tat /home2/sdokania/.vscode-server-insiders/bin/04485223ebc6a075f39966bf9b3e261359ac7818/out/vs/server/remoteExtensionHostProcess.js:89:8039\n\tat u.fire (/home2/sdokania/.vscode-server-insiders/bin/04485223ebc6a075f39966bf9b3e261359ac7818/out/vs/server/remoteExtensionHostProcess.js:57:1712)\n\tat l.fire (/home2/sdokania/.vscode-server-insiders/bin/04485223ebc6a075f39966bf9b3e261359ac7818/out/vs/server/remoteExtensionHostProcess.js:65:15825)\n\tat /home2/sdokania/.vscode-server-insiders/bin/04485223ebc6a075f39966bf9b3e261359ac7818/out/vs/server/remoteExtensionHostProcess.js:104:30061\n\tat u.fire (/home2/sdokania/.vscode-server-insiders/bin/04485223ebc6a075f39966bf9b3e261359ac7818/out/vs/server/remoteExtensionHostProcess.js:57:1712)\n\tat l.fire (/home2/sdokania/.vscode-server-insiders/bin/04485223ebc6a075f39966bf9b3e261359ac7818/out/vs/server/remoteExtensionHostProcess.js:65:15825)\n\tat r._receiveMessage (/home2/sdokania/.vscode-server-insiders/bin/04485223ebc6a075f39966bf9b3e261359ac7818/out/vs/server/remoteExtensionHostProcess.js:65:21091)\n\tat /home2/sdokania/.vscode-server-insiders/bin/04485223ebc6a075f39966bf9b3e261359ac7818/out/vs/server/remoteExtensionHostProcess.js:65:17969\n\tat u.fire (/home2/sdokania/.vscode-server-insiders/bin/04485223ebc6a075f39966bf9b3e261359ac7818/out/vs/server/remoteExtensionHostProcess.js:57:1712)\n\tat v.acceptChunk (/home2/sdokania/.vscode-server-insiders/bin/04485223ebc6a075f39966bf9b3e261359ac7818/out/vs/server/remoteExtensionHostProcess.js:65:13186)\n\tat /home2/sdokania/.vscode-server-insiders/bin/04485223ebc6a075f39966bf9b3e261359ac7818/out/vs/server/remoteExtensionHostProcess.js:65:12534\n\tat u.fire (/home2/sdokania/.vscode-server-insiders/bin/04485223ebc6a075f39966bf9b3e261359ac7818/out/vs/server/remoteExtensionHostProcess.js:57:1712)\n\tat /home2/sdokania/.vscode-server-insiders/bin/04485223ebc6a075f39966bf9b3e261359ac7818/out/vs/server/remoteExtensionHostProcess.js:104:19146\n\tat afterWrite (internal/streams/writable.js:466:5)\n\tat onwrite (internal/streams/writable.js:446:7)\n\tat InflateRaw.afterTransform (internal/streams/transform.js:103:3)\n\tat Zlib.processCallback (zlib.js:586:8)"
                        }
                    },
                    "metadata": {
                        "needs_background": "light"
                    }
                }
            ],
            "metadata": {}
        },
        {
            "cell_type": "code",
            "execution_count": 106,
            "source": [],
            "outputs": [
                {
                    "output_type": "execute_result",
                    "data": {
                        "text/plain": [
                            "<function einops.einops.rearrange(tensor, pattern, **axes_lengths)>"
                        ]
                    },
                    "metadata": {},
                    "execution_count": 106
                }
            ],
            "metadata": {}
        },
        {
            "cell_type": "code",
            "execution_count": null,
            "source": [],
            "outputs": [],
            "metadata": {}
        }
    ],
    "metadata": {
        "orig_nbformat": 4,
        "language_info": {
            "name": "python",
            "version": "3.8.3",
            "mimetype": "text/x-python",
            "codemirror_mode": {
                "name": "ipython",
                "version": 3
            },
            "pygments_lexer": "ipython3",
            "nbconvert_exporter": "python",
            "file_extension": ".py"
        },
        "kernelspec": {
            "name": "python3",
            "display_name": "Python 3.8.3 64-bit"
        },
        "interpreter": {
            "hash": "e1a0b73f138b8e46c1ab7ba22a2d68cfb24a87eea0df27b153684073fdda7be0"
        }
    },
    "nbformat": 4,
    "nbformat_minor": 2
}